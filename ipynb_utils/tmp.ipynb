{
 "cells": [
  {
   "cell_type": "markdown",
   "metadata": {
    "toc": "true"
   },
   "source": [
    "# Table of Contents\n",
    " <p><div class=\"lev1 toc-item\"><a href=\"#行列と連立方程式\" data-toc-modified-id=\"行列と連立方程式-1\"><span class=\"toc-item-num\">1&nbsp;&nbsp;</span>行列と連立方程式</a></div><div class=\"lev1 toc-item\"><a href=\"#掃き出し\" data-toc-modified-id=\"掃き出し-2\"><span class=\"toc-item-num\">2&nbsp;&nbsp;</span>掃き出し</a></div><div class=\"lev2 toc-item\"><a href=\"#python注\" data-toc-modified-id=\"python注-21\"><span class=\"toc-item-num\">2.1&nbsp;&nbsp;</span>python注</a></div><div class=\"lev1 toc-item\"><a href=\"#写像\" data-toc-modified-id=\"写像-3\"><span class=\"toc-item-num\">3&nbsp;&nbsp;</span>写像</a></div><div class=\"lev1 toc-item\"><a href=\"#固有ベクトルの幾何学的意味\" data-toc-modified-id=\"固有ベクトルの幾何学的意味-4\"><span class=\"toc-item-num\">4&nbsp;&nbsp;</span>固有ベクトルの幾何学的意味</a></div><div class=\"lev2 toc-item\"><a href=\"#解答\" data-toc-modified-id=\"解答-41\"><span class=\"toc-item-num\">4.1&nbsp;&nbsp;</span>解答</a></div><div class=\"lev1 toc-item\"><a href=\"#行列式の幾何学的意味\" data-toc-modified-id=\"行列式の幾何学的意味-5\"><span class=\"toc-item-num\">5&nbsp;&nbsp;</span>行列式の幾何学的意味</a></div><div class=\"lev1 toc-item\"><a href=\"#行列式が0の写像\" data-toc-modified-id=\"行列式が0の写像-6\"><span class=\"toc-item-num\">6&nbsp;&nbsp;</span>行列式が0の写像</a></div><div class=\"lev1 toc-item\"><a href=\"#全単射\" data-toc-modified-id=\"全単射-7\"><span class=\"toc-item-num\">7&nbsp;&nbsp;</span>全単射</a></div><div class=\"lev2 toc-item\"><a href=\"#代数方程式a-x-=bの解の存在性．\" data-toc-modified-id=\"代数方程式a-x-=bの解の存在性．-71\"><span class=\"toc-item-num\">7.1&nbsp;&nbsp;</span>代数方程式$a x =b$の解の存在性．</a></div><div class=\"lev1 toc-item\"><a href=\"#課題\" data-toc-modified-id=\"課題-8\"><span class=\"toc-item-num\">8&nbsp;&nbsp;</span>課題</a></div>"
   ]
  },
  {
   "cell_type": "markdown",
   "metadata": {},
   "source": [
    "<br />\n",
    "\n",
    "<div style=\"text-align: center;\">\n",
    "<font size=\"7\">線形代数-写像</font>\n",
    "</div>\n",
    "<br />\n",
    "<div style=\"text-align: right;\">\n",
    "<font size=\"4\">file:/Users/bob/Github/TeamNishitani/jupyter_num_calc/lafundamentals</font>\n",
    "<br />\n",
    "<font size=\"4\">https://github.com/daddygongon/jupyter_num_calc/tree/master/notebooks_python</font>\n",
    "<br />\n",
    "<font size=\"4\">cc by Shigeto R. Nishitani 2017 </font>\n",
    "</div>\n"
   ]
  },
  {
   "cell_type": "markdown",
   "metadata": {},
   "source": [
    "# 行列と連立方程式\n"
   ]
  },
  {
   "cell_type": "markdown",
   "metadata": {},
   "source": [
    "\n",
    "大学の理系で必修なのは微積分と線形代数です．線形代数というと逆行列と固有値の計算がすぐに思い浮かぶでしょう．計算がややこしくてそれだけでいやになります．でも，行列の計算法は一連の手順で記述できるので，Mapleでは微積分とおなじように一個のコマンドで片が付きます．それが3x3以上でも同じです．問題はその意味です．ここでは，線形代数の計算がMapleを使えばどれほど簡単にできるかを示すと共に，線形代数の基本となる概念についてスクリプトと描画を使って，直観的に理解することを目的とします．\n",
    "\n",
    "先ずは連立方程式から入っていきます．中学の時に\n",
    "\n",
    "$$\n",
    "4x = 2\n",
    "$$\n",
    "というのを解きますよね．一般的には\n",
    "\n",
    "$$\n",
    "\\begin {array}{rl}\n",
    "ax &= b \\\\\n",
    "x &= b/a\n",
    "\\end {array}\n",
    "$$\n",
    "と書けるというのは皆さんご存知のはず．これと同じようにして連立方程式を書こうというのが逆行列の基本．つまり\n",
    "\n",
    "$$\n",
    "\\begin {array}{rrl}\n",
    "2x\\, + &5y &=7 \\\\\n",
    "4x\\, + &y &=5\n",
    "\\end {array}\n",
    "$$\n",
    "という連立方程式は，係数から作られる2x2行列を係数行列$A$，左辺の値で作るベクトルを$b$として，\n",
    "\n",
    "$$\n",
    "\\begin {array}{rll}\n",
    "Ax &= b & \\\\\n",
    "x &= b/A &= A^{-1}b\n",
    "\\end {array}\n",
    "$$\n",
    "としたいわけです．\n",
    "\n",
    "実際にMapleでやってみましょう．行列は英語でMatrixです．\n",
    "```maple\n",
    "> restart: A:=Matrix([[2,5],[4,1]]); \n",
    "```\n",
    "$$\n",
    "A\\, := \\, \\left[ \\begin {array}{cc} 2&5\\\\ 4&1\\end {array} \\right]\n",
    "$$\n",
    "こうして行列を作ります．\n",
    "\n",
    "```maple\n",
    "> b:=Vector([7,5]); #(2)ベクトルは英語でVectorです．これで縦ベクトルができます．\n",
    "```\n",
    "$$\n",
    "b\\, := \\, \\left[ \\begin {array}{c} 7\\\\ 5\\end {array} \\right]\n",
    "$$\n",
    "線形代数はlinear algebraと言います．withでLinearAlgebraというライブラリーパッケージを読み込んでおきます．\n",
    "```maple\n",
    "> with(LinearAlgebra): \n",
    "```\n",
    "逆行列はmatrix inverseと言います．\n",
    "```maple\n",
    "> x0:=MatrixInverse(A).b;\n",
    "```\n",
    "行列AのMatrixInverseを求めて，ベクトルbに掛けています．\n",
    "$$\n",
    "{\\it x0}\\, := \\, \\left[ \\begin {array}{c} 1\\\\ 1\\end {array} \\right] \n",
    "$$\n",
    "と簡単に求めることができます．\n",
    "\n",
    "\n"
   ]
  },
  {
   "cell_type": "code",
   "execution_count": 26,
   "metadata": {},
   "outputs": [
    {
     "name": "stdout",
     "output_type": "stream",
     "text": [
      "[[2 5]\n",
      " [4 1]]\n",
      "[7 5]\n",
      "[ 1.  1.]\n",
      "[[-0.05555556  0.27777778]\n",
      " [ 0.22222222 -0.11111111]]\n",
      "[ 1.  1.]\n"
     ]
    }
   ],
   "source": [
    "import numpy as np\n",
    "\n",
    "a = np.array([[2,5], [4,1]])\n",
    "b = np.array([7,5])\n",
    "\n",
    "print(a)\n",
    "print(b)\n",
    "\n",
    "# 連立方程式の解(Solve a linear matrix equation, or system of linear scalar equations)\n",
    "print(np.linalg.solve(a,b))\n",
    "\n",
    "# 逆行列(matrix inverse)\n",
    "inv_a = np.linalg.inv(a)\n",
    "print(inv_a)\n",
    "\n",
    "# 逆行列と，定数項(ordinate)の転置(transpose)との\n",
    "t_b = np.transpose(b)\n",
    "print(np.dot(inv_a,t_b))"
   ]
  },
  {
   "cell_type": "markdown",
   "metadata": {},
   "source": [
    "# 掃き出し\n"
   ]
  },
  {
   "cell_type": "markdown",
   "metadata": {},
   "source": [
    "\n",
    "係数行列$A$とベクトル$b$を足して作られる行列は拡大係数行列と呼ばれます．Mapleでは，これは\n",
    "```maple\n",
    "> <A|b>;\n",
    "```\n",
    "$$\n",
    "\\left[ \\begin {array}{ccc} 2&5&7\\\\ 4&1&5\\end {array} \\right]\n",
    "$$\n",
    "として作られます．ここから行列の掃き出し操作をおこなうには，LUDecompositionというコマンドを使います．\n",
    "```maple\n",
    "> P,L,U:=LUDecomposition(<A|b>);\n",
    "```\n",
    "$$\n",
    "P,\\,L,\\,U\\, := \\, \\left[ \\begin {array}{cc} 1&0\\\\ 0&1\\end {array} \\right] ,\\, \\left[ \\begin {array}{cc} 1&0\\\\ 2&1\\end {array} \\right] ,\\, \\left[ \\begin {array}{ccc} 2&5&7\\\\ 0&-9&-9\\end {array} \\right]\n",
    "$$\n",
    "これは，下三角行列(Lower Triangle Matrix)と上三角行列(Upper Triangle Matrix)に分解(decompose)するコマンドです．$P$行列は置換(permutation)行列を意味します．LUDecompositionだけでは，前進消去が終わっただけの状態です．そこで，後退代入までおこなうには，optionにoutput='R'をつけます．そうすると出力は，\n",
    "```maple\n",
    "> LUDecomposition(<A|b>,output='R');\n",
    "```\n",
    "$$\n",
    "\\left[ \\begin {array}{ccc} 1&0&1\\\\ 0&1&1\\end {array} \\right]\n",
    "$$\n",
    "で，$b$ベクトルの部分が解になっています．\n",
    "\n",
    "\n"
   ]
  },
  {
   "cell_type": "code",
   "execution_count": 35,
   "metadata": {},
   "outputs": [
    {
     "name": "stdout",
     "output_type": "stream",
     "text": [
      "[[ 0.  1.]\n",
      " [ 1.  0.]]\n",
      "[[ 1.   0. ]\n",
      " [ 0.5  1. ]]\n",
      "[[ 4.   1. ]\n",
      " [ 0.   4.5]]\n"
     ]
    }
   ],
   "source": [
    "import scipy.linalg as sp\n",
    "\n",
    "P, L, U = sp.lu(a)\n",
    "\n",
    "print(P)\n",
    "print(L)\n",
    "print(U)"
   ]
  },
  {
   "cell_type": "markdown",
   "metadata": {},
   "source": [
    "## python注\n",
    "\n",
    "拡大係数行列はあまり使わないみたい．"
   ]
  },
  {
   "cell_type": "markdown",
   "metadata": {},
   "source": [
    "# 写像\n"
   ]
  },
  {
   "cell_type": "markdown",
   "metadata": {},
   "source": [
    "\n",
    "次に，これを2次元上のグラフで見てみましょう．先ず描画に必要なライブラリーパッケージ(plotsおよびplottools)をwithで読み込んでおきます．\n",
    "```maple\n",
    "> with(plots):with(plottools): \n",
    "```\n",
    "ベクトルは，位置座標を意味するようにlistへ変換(convert)しておきます．\n",
    "```maple\n",
    "> p0:=convert(x0,list); p1:=convert(b,list); \n",
    "```\n",
    "位置p0に円(disk)を半径0.2,赤色で描きます．同じように位置p1に半径0.2，青色でdiskを描きます．もう一つ，p0からp1に向かう矢印(arrow)\n",
    "を適当な大きさで描きます．後ろの数字をいじると線の幅や矢印の大きさが変わります．\n",
    "```maple\n",
    "> point1:=[disk(p0,0.2,color=red), disk(p1,0.2,color=blue)]:\n",
    "> line1:=arrow(p0,p1,.05,.3,.1 ):\n",
    "```\n",
    "\n",
    "これらをまとめて表示(display)します．このとき，表示範囲を-8..8,-8..8とします．\n",
    "```maple\n",
    "> display(point1,line1,view=[-2..8,-2..8],gridlines=true);\n",
    "```\n",
    "\n",
    "![LAFundamentalsplot2d1.png](figs/LAFundamentalsplot2d1.png)\n",
    "\n",
    "\n",
    "逆行列は\n",
    "```maple\n",
    "> MatrixInverse(A);\n",
    "```\n",
    "$$\n",
    "\\left[ \\begin {array}{cc} -1/18&5/18\\\\ 2/9&-1/9\\end {array} \\right]\n",
    "%\\left[  \\begin {array}{cc}  -\\frac{1}{18}&   \\frac{5}{18}\\\\\n",
    "%   \\frac{2}{9}&   -\\frac{1}{9}\\end {array} \\right]\n",
    "$$\n",
    "で求まります．先ほどの矢印を逆に青から赤へたどる変換になっています．これが，連立方程式を解く様子をグラフで示しています．つまり，行列Aで示される変換によって求まる青点で示したベクトルb(7,5)を指す元の赤点を捜すというものです．答えは(1,1)となります．\n",
    "\n",
    "では，元の赤点をもう少しいろいろ取って，行列Aでどのような点へ写されるかを見てみましょう．\n",
    "```maple\n",
    "> N:=30:point2:=[]:line2:=[]: \n",
    "  for k from 0 to N-1 do\n",
    "    x0:=Vector([sin(2*Pi*k/N),cos(2*Pi*k/N)]); \n",
    "    x1:=A.x0; \n",
    "    p0:=convert(x0,list);\n",
    "    p1:=convert(x1,list); \n",
    "    point2:=[op(point2),disk(p0,0.05,color=red)];\n",
    "    point2:=[op(point2),disk(p1,0.05,color=blue)]; \n",
    "    line2:=[op(line2),line(p0,p1)];\n",
    "  end do:\n",
    "```\n",
    "N:=30で分割した円周上の点をx0で求めて，point2にその円とそれのＡ.x0を，line2にはその2点を結ぶline(線)を足しています．\n",
    "使っているコマンドは，先ほどの描画とほぼ同じです．ただし，Mapleスクリプトに特有のidiom(熟語)を使っています．この基本形をとり出すと，\n",
    "```maple\n",
    "> list1:=[]; \n",
    "  for k from 0 to 2 do \n",
    "    list1:=[op(list1),k]; \n",
    "  end do; \n",
    "  list1;\n",
    "```\n",
    "$$\n",
    "[] \\notag \\\\\n",
    "[0] \\notag \\\\\n",
    "[0, 1] \\notag \\\\\n",
    "[0, 1, 2] \\notag \\\\\n",
    "[0, 1, 2] \\notag\n",
    "$$\n",
    "となります．for-loopでkを0から4まで回し，list1に次々と値を追加していくというテクです．\n",
    "\n",
    "できあがりの次の図を見てください．\n",
    "```maple\n",
    "> d:=6: display(point2,line2,view=[-d..d,-d..d]);\n",
    "```\n",
    "\n",
    "何やっているか分かります? 中心の赤点で示される円が，青点で示される楕円へ写されていることが分かるでしょうか．\n",
    "\n",
    "線形代数の講義で，写像を示すときによく使われるポンチ絵を現実の空間で示すとこのようになります．ポンチ絵では，赤で示した$V$空間が青で示した$W$空間へ行列$A$によって写像され，それぞれの要素$v$が$w$へ移されると意図しています．\n",
    "\n",
    "![Projection3-4.png](figs/Projection3-4.png)\n",
    "\n",
    "\n",
    "\n"
   ]
  },
  {
   "cell_type": "markdown",
   "metadata": {},
   "source": [
    "# 固有ベクトルの幾何学的意味\n"
   ]
  },
  {
   "cell_type": "markdown",
   "metadata": {},
   "source": [
    "\n",
    "では，ここでクイズです．固有ベクトルは上のグラフの何処に対応するか?　ヒントは，\n",
    "行列Aの固有値，固有ベクトルを$\\lambda, x_0$とすると，\n",
    "\n",
    "$$\n",
    "A \\,x_0 = \\lambda \\, x_0\n",
    "$$\n",
    "が成立する\n",
    "です．固有値と固有ベクトルはMapleでは以下のコマンドで求まります．\n",
    "```maple\n",
    "> lambda,P:=Eigenvectors(A);\n",
    "```\n",
    "$$\n",
    "\\lambda,\\,P\\, := \\, \\left[ \\begin {array}{c} -3\\\\6\\end {array} \\right] ,\\, \\left[ \\begin {array}{cc} -1&5/4\\\\1&1\\end {array} \\right]\n",
    "$$\n",
    "ここではMapleコマンドのEigenvectorsで戻り値を$\\lambda$(lambdaと書きます)，$P$に代入しています．この後ろ側にある行列$P$の1列目で構成されるベクトルが固有値-3に対応する固有ベクトル，2列目のベクトルが固有値6に対応する固有ベクトルです．\n",
    "\n",
    "\n"
   ]
  },
  {
   "cell_type": "code",
   "execution_count": 31,
   "metadata": {},
   "outputs": [
    {
     "name": "stdout",
     "output_type": "stream",
     "text": [
      "[ 6. -3.]\n",
      "[[ 0.78086881 -0.70710678]\n",
      " [ 0.62469505  0.70710678]]\n",
      "[ 0.78086881  0.62469505]\n",
      "[-0.70710678  0.70710678]\n"
     ]
    }
   ],
   "source": [
    "l,P = np.linalg.eig(a)\n",
    "print(l)\n",
    "print(P)\n",
    "v0 = P[:,0]\n",
    "v1 = P[:,1]\n",
    "print(v0)\n",
    "print(v1)"
   ]
  },
  {
   "cell_type": "code",
   "execution_count": 42,
   "metadata": {},
   "outputs": [
    {
     "data": {
      "image/png": "iVBORw0KGgoAAAANSUhEUgAAAXYAAAD8CAYAAABjAo9vAAAABHNCSVQICAgIfAhkiAAAAAlwSFlz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\nFiozstAFAAAAAElFTkSuQmCC\n",
      "text/plain": [
       "<matplotlib.figure.Figure at 0x113656e10>"
      ]
     },
     "metadata": {},
     "output_type": "display_data"
    }
   ],
   "source": [
    "import numpy as np\n",
    "import matplotlib.pyplot as plt\n",
    "\n",
    "a = np.array([[2,5], [4,1]])\n",
    "\n",
    "div = 32\n",
    "for i in range(0,div):\n",
    "    theta = 2*np.pi/div*i\n",
    "    x = np.sin(theta)\n",
    "    y = np.cos(theta)\n",
    "    # print('%10.5f-%10.5f' % (x,y))\n",
    "    plt.plot(x,y,'o',color='r')\n",
    "    x0 = np.array([x,y])\n",
    "    x1 = np.dot(a,x0)\n",
    "    plt.plot(x1[0],x1[1],'o',color='b')\n",
    "    plt.plot(x1[0],x1[1],'o',color='b')\n",
    "    plt.plot([x, x1[0]], [y,x1[1]], color='k', linestyle='-', linewidth=1)\n",
    "\n",
    "plt.plot([-6,6], [0,0], color='k', linestyle='-', linewidth=1)\n",
    "plt.plot([0,0], [-4,4], color='k', linestyle='-', linewidth=1)\n",
    "\n",
    "t=7\n",
    "plt.plot([-t*v0[0],t*v0[0]], [-t*v0[1],t*v0[1]], color='g', linestyle='-', linewidth=2)\n",
    "t=5\n",
    "plt.plot([-t*v1[0],t*v1[0]], [-t*v1[1],t*v1[1]], color='g', linestyle='-', linewidth=2)\n",
    "\n",
    "\n",
    "\n",
    "plt.axes().set_aspect('equal', 'datalim')\n",
    "plt.show()\n",
    "\n"
   ]
  },
  {
   "cell_type": "markdown",
   "metadata": {},
   "source": [
    "## 解答 \n"
   ]
  },
  {
   "cell_type": "markdown",
   "metadata": {},
   "source": [
    "固有値$\\lambda$，固有ベクトル$x_0$の関係式\n",
    "\n",
    "$$\n",
    "A \\,x_0 = \\lambda \\, x_0\n",
    "$$\n",
    "を言葉で言い直すと，\n",
    ">固有ベクトル$x_0$は変換行列$A$によって，自分の固有値倍のベクトル$\\lambda x_0$に写されるベクトル\n",
    "となります．つまり変換の図で言うと，\n",
    ">変換しても方向が変わらない赤点（の方向）\n",
    "となります．これは図で書くと\n",
    "```maple\n",
    "> vv1:=Column(P,1): vv2:=Column(P,2): \n",
    "  a1:=vv1[2]/vv1[1]: a2:=vv2[2]/vv2[1]:\n",
    "  pp1:=plot({a2*x,a1*x},x=-d..d):\n",
    "```\n",
    "Columnによって行列の第i列目をとりだし，その比によって直線の傾きを求めています．そうして引いた2本の直線をpp1としてため込んで，先ほど描いた変換の図に加えて表示(display)させます．\n",
    "```maple\n",
    "> display(point2,line2,pp1,view=[-d..d,-d..d]);\n",
    "```\n",
    "\n",
    "![LAFundamentalsplot2d3.png](figs/LAFundamentalsplot2d3.png)\n",
    "\n",
    "pp1を入れて描いた直線が引かれた方向ではたしかに変換によっても方向が変わらなさそうに見えるでしょう．\n",
    "\n",
    "おまけですが，行列の対角化は次のようにしてできます．\n",
    "```maple\n",
    "> MatrixInverse(P).A.P;\n",
    "```\n",
    "$$\n",
    "\\left[ \\begin {array}{cc} -3&0\\\\ 0&6\\end {array} \\right]\n",
    "$$\n",
    "\n",
    "\n"
   ]
  },
  {
   "cell_type": "markdown",
   "metadata": {},
   "source": [
    "# 行列式の幾何学的意味\n"
   ]
  },
  {
   "cell_type": "markdown",
   "metadata": {},
   "source": [
    "\n",
    "行列Aの行列式($\\left|A\\right|$あるいはdet$A$と表記)はDeterminantで求まります．\n",
    "```maple\n",
    "> Determinant(A);\n",
    "```\n",
    "$$\n",
    "-18\n",
    "$$\n",
    "では次のクイズ．先ほど求めた，行列Aの行列式は，どこに対応するでしょう?\n",
    "以下の(1,0),(0,1)の点を変換した点に原点からベクトルを結んでその意味を説明してください．さらに，そのマイナスの意味は？．\n",
    "```maple\n",
    "> point3:=[]:line3:=[]: XX:=Matrix([[1,0],[0,1]]): \n",
    "  for i from 1 to 2 do\n",
    "    x0:=Column(XX,i); x1:=A.x0; \n",
    "    p0:=convert(x0,list): \n",
    "    p1:=convert(x1,list):\n",
    "    point3:=[op(point3),disk(p0,0.2,color=red),disk(p1,0.2,color=blue)]:\n",
    "    line3:=[op(line3),arrow([0,0],p0,.05,.3,.1 ),arrow([0,0],p1,.05,.3,.1 )]:\n",
    "  end do:\n",
    "  display(point3,line3,view=[-1..8,-1..8],gridlines=true);\n",
    "```\n",
    "\n",
    "![LAFundamentalsplot2d4.png](figs/LAFundamentalsplot2d4.png)\n",
    "\n",
    "\n",
    "\n"
   ]
  },
  {
   "cell_type": "markdown",
   "metadata": {},
   "source": [
    "# 行列式が0の写像\n"
   ]
  },
  {
   "cell_type": "markdown",
   "metadata": {},
   "source": [
    "\n",
    "では，行列式が０になるというのはどういう状態でしょう? 次のような行列を考えてみましょう．\n",
    "```maple\n",
    "> A:=Matrix([[2,1],[4,2]]);\n",
    "```\n",
    "$$\n",
    "$$\n",
    "この行列式は\n",
    "```maple\n",
    "> Determinant(A);\n",
    "```\n",
    "$$\n",
    "0\n",
    "$$\n",
    "です．この変換行列で，上と同じように写像の様子を表示させてみましょう．\n",
    "```maple\n",
    "> N:=30:point2:=[]:line2:=[]: \n",
    "  for k from 0 to N-1 do\n",
    "    x0:=Vector([sin(2*Pi*k/N),cos(2*Pi*k/N)]); x1:=A.x0; p0:=convert(x0,list);\n",
    "    p1:=convert(x1,list);\n",
    "    point2:=[op(point2),disk(p0,0.05,color=red),disk(p1,0.05,color=blue)];\n",
    "    line2:=[op(line2),line(p0,p1)]; \n",
    "  end:\n",
    "> d:=6: display(point2,line2,view=[-d..d,-d..d]);\n",
    "```\n",
    "\n",
    "![LAFundamentalsplot2d5.png](figs/LAFundamentalsplot2d5.png)\n",
    "\n",
    "\n",
    "わかります？\n",
    "\n",
    "今回の移動先の青点は直線となっています．つまり，determinantが0ということは，変換すると面積がつぶれるという事を意味しています．平面がひとつ次元を落として線になるということです．\n",
    "\n",
    "次に，この行列の表わす写像によって原点(0,0)に写される元の座標を求めてみます．連立方程式に戻してみると\n",
    "```maple\n",
    "> A.Vector([x,y])=Vector([0,0]);\n",
    "```\n",
    "$$\n",
    "\\left[ \\begin {array}{c} 2\\,x+y\\\\ 4\\,x+2\\,y\\end {array} \\right] = \\left[ \\begin {array}{c} 0\\\\ 0\\end {array} \\right]\n",
    "$$\n",
    "となります．とよく見ると，1行目も2行目もおなじ式になっています．2次元正方行列で，行列式が0の時には必ずこういう形になり，直線の式となります．これを表示すると\n",
    "```maple\n",
    "> plot([-2*x,-2*x+1,-2*x-1],x=-4..4,y=-4..4);\n",
    "> plot([2*x],x=-4..4,y=-4..4,color=blue);\n",
    "```\n",
    "\n",
    "![LAFundamentalsKernelImage.png](figs/LAFundamentalsKernelImage.png)\n",
    "\n",
    "左図の赤線となります．この直線上の全ての点が[0,0]へ写されることを確認してください．また，緑の線上の点は全て[1,2]へ写されることが確認できます．\n",
    "```maple\n",
    "> A.Vector([-1,2]);\n",
    "```\n",
    "$$\n",
    "\\left[ \\begin {array}{c} 0\\\\ 0\\end {array} \\right]\n",
    "$$\n",
    "\n",
    "こうしてすべて調べていけば，左の平面上のすべて点は右の青の直線上へ写されることが分かります．今まで見てきた円と楕円とはまったく違った写像が，行列式が0の行列では起こっていることが分かると思います．右の青線を行列Aによる像(Image, Im$A$と表記)，左の赤線，つまり写像によって[0,0]へ写される集合を核(Kernel, Ker$A$と表記)と呼びます．\n",
    "\n",
    "これをポンチ絵で描くと，次の通りです．\n",
    "\n",
    "\n",
    "|像(Image) | 核(Kernel) |\n",
    "|:----|:----|\n",
    "![Projection1.png](figs/Projection1.png)\n",
    "\n",
    "\n",
    "\n",
    "\n"
   ]
  },
  {
   "cell_type": "markdown",
   "metadata": {},
   "source": [
    "# 全単射\n"
   ]
  },
  {
   "cell_type": "markdown",
   "metadata": {},
   "source": [
    "\n",
    "行列$A$による写像を$f$として，赤点に限らず元の点の集合を$V$, 移った先の点の集合を$W$とすると，\n",
    "\n",
    "$$\n",
    "f: V \\rightarrow W\n",
    "$$\n",
    "と表記されます．$v,w$を$V,W$の要素としたとき，異なる$v$が異なる$w$に写されることを単射，全ての$w$に対応する$v$がある写像を全射と言います．全単射，つまり全射でかつ単射，だと要素は一対一に対応します．先ほどのAは全射でもなく，単射でもない例です．\n",
    "\n",
    "行列式が0の場合の写像は単射ではありません．このとき，逆写像が作れそうにありません．これを連立方程式に戻して考えましょう．もともと，\n",
    "\n",
    "$$\n",
    "v = A^{-1} w\n",
    "$$\n",
    "の解$v$は点$w$が写像$A$によってどこから写されてきたかという意味を持ちます．逆写像が作れない場合は，連立方程式の解はパラメータをひとつ持った複数の解(直線)となります．これが係数行列の行列式が0の場合に，連立方程式の解が不定となる，あるいは像がつぶれるという関係です．\n",
    "\n",
    "行列の次元が高い場合には，いろいろなつぶれかたをします．行列の階数と次元は\n",
    "```maple\n",
    "> Rank(A); \n",
    "  Dimension(A);\n",
    "```\n",
    "$$\n",
    "1 \\notag \\\\\n",
    "2, 2 \\notag\n",
    "$$\n",
    "で求まります．\n",
    "\n",
    "Aをm行n列の行列とするとき，\n",
    ">Rank(*A'') = Dimension (Im ''A*)\n",
    "\n",
    ">Dimension (Ker *A'') = ''n'' - Rank(''A*) \n",
    "\n",
    "が成立し，これを次元定理といいます．\n",
    "全射と単射の関係は，下の表のような一変数の方程式での解の性質の拡張と捉えることができます．\n",
    "\n"
   ]
  },
  {
   "cell_type": "markdown",
   "metadata": {},
   "source": [
    "## 代数方程式$a x =b$の解の存在性．\n"
   ]
  },
  {
   "cell_type": "markdown",
   "metadata": {},
   "source": [
    "\n",
    "|呼び名|条件|意味|\n",
    "|:----|:----|:----|\n",
    "|一意|$a<>0$ |解は$x=b/a$のみ|\n",
    "|不定|$a=0, b=0$ |解は無数 |\n",
    "|不能|$a=0, b<>0$ |解は存在しない|\n",
    "\n",
    "\n",
    "\n",
    "|m x n行列A|全射でない(Im $A < m$), 値域上にあるときのみ解が存在|全射(Im $A =m$), 解は必ず存在|\n",
    "|:----|:----|:----|\n",
    "|単射でない(Ker $A <> 0$), 解は複数 |![test](figs/Projection3-1.png)|![test](figs/Projection3-2.png)\n",
    "|単射(Ker $A = 0$), 解はひとつ|![test](figs/Projection3-3.png)|![test](figs/Projection3-4.png)\n",
    "\n",
    "\n",
    "\n"
   ]
  },
  {
   "cell_type": "markdown",
   "metadata": {},
   "source": [
    "# 課題\n"
   ]
  },
  {
   "cell_type": "markdown",
   "metadata": {},
   "source": [
    "\n",
    "1.  下の図は\n",
    "$A\\, := \\, \\left[ \\begin {array}{cc} 3&2/3\\\\ 2/3&2\\end {array} \\right]$を用いて変換される像を表わしている．この行列の固有値，行列式が何処に対応するか説明せよ．また，固有ベクトルの方向を記せ．(2007年度期末試験)\n",
    "\n",
    "![LAFundamentalsplot2d8.png](figs/LAFundamentalsplot2d8.png)\n",
   ]
  }
 ],
 "metadata": {
  "kernelspec": {
   "display_name": "Python 3",
   "language": "python",
   "name": "python3"
  },
  "language_info": {
   "codemirror_mode": {
    "name": "ipython",
    "version": 3
   },
   "file_extension": ".py",
   "mimetype": "text/x-python",
   "name": "python",
   "nbconvert_exporter": "python",
   "pygments_lexer": "ipython3",
   "version": "3.6.1"
  },
  "latex_envs": {
   "LaTeX_envs_menu_present": true,
   "autocomplete": true,
   "bibliofile": "biblio.bib",
   "cite_by": "apalike",
   "current_citInitial": 1,
   "eqLabelWithNumbers": true,
   "eqNumInitial": 1,
   "hotkeys": {
    "equation": "Ctrl-E",
    "itemize": "Ctrl-I"
   },
   "labels_anchors": false,
   "latex_user_defs": false,
   "report_style_numbering": false,
   "user_envs_cfg": false
  },
  "toc": {
   "colors": {
    "hover_highlight": "#DAA520",
    "navigate_num": "#000000",
    "navigate_text": "#333333",
    "running_highlight": "#FF0000",
    "selected_highlight": "#FFD700",
    "sidebar_border": "#EEEEEE",
    "wrapper_background": "#FFFFFF"
   },
   "moveMenuLeft": true,
   "nav_menu": {
    "height": "12px",
    "width": "252px"
   },
   "navigate_menu": true,
   "number_sections": true,
   "sideBar": true,
   "threshold": 4,
   "toc_cell": true,
   "toc_position": {
    "height": "581px",
    "left": "0px",
    "right": "auto",
    "top": "105px",
    "width": "212px"
   },
   "toc_section_display": "block",
   "toc_window_display": true,
   "widenNotebook": false
  }
 },
 "nbformat": 4,
 "nbformat_minor": 2
}
