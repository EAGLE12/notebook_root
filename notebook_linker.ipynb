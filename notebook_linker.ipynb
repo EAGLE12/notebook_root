{
 "cells": [
  {
   "cell_type": "markdown",
   "metadata": {
    "toc": "true"
   },
   "source": [
    "# Table of Contents\n",
    " <p><div class=\"lev1 toc-item\"><a href=\"#README\" data-toc-modified-id=\"README-1\"><span class=\"toc-item-num\">1&nbsp;&nbsp;</span>README</a></div><div class=\"lev1 toc-item\"><a href=\"#開発項目\" data-toc-modified-id=\"開発項目-2\"><span class=\"toc-item-num\">2&nbsp;&nbsp;</span>開発項目</a></div><div class=\"lev2 toc-item\"><a href=\"#linkerの\" data-toc-modified-id=\"linkerの-21\"><span class=\"toc-item-num\">2.1&nbsp;&nbsp;</span>linkerの</a></div><div class=\"lev2 toc-item\"><a href=\"#rtree\" data-toc-modified-id=\"rtree-22\"><span class=\"toc-item-num\">2.2&nbsp;&nbsp;</span>rtree</a></div><div class=\"lev1 toc-item\"><a href=\"#search\" data-toc-modified-id=\"search-3\"><span class=\"toc-item-num\">3&nbsp;&nbsp;</span>search</a></div><div class=\"lev1 toc-item\"><a href=\"#make_link\" data-toc-modified-id=\"make_link-4\"><span class=\"toc-item-num\">4&nbsp;&nbsp;</span>make_link</a></div><div class=\"lev1 toc-item\"><a href=\"#time_sort\" data-toc-modified-id=\"time_sort-5\"><span class=\"toc-item-num\">5&nbsp;&nbsp;</span>time_sort</a></div><div class=\"lev1 toc-item\"><a href=\"#tree-display\" data-toc-modified-id=\"tree-display-6\"><span class=\"toc-item-num\">6&nbsp;&nbsp;</span>tree display</a></div><div class=\"lev1 toc-item\"><a href=\"#select_mv\" data-toc-modified-id=\"select_mv-7\"><span class=\"toc-item-num\">7&nbsp;&nbsp;</span>select_mv</a></div><div class=\"lev1 toc-item\"><a href=\"#stray_catch\" data-toc-modified-id=\"stray_catch-8\"><span class=\"toc-item-num\">8&nbsp;&nbsp;</span>stray_catch</a></div>"
   ]
  },
  {
   "cell_type": "markdown",
   "metadata": {},
   "source": [
    "# README\n",
    "``` bash\n",
    "notebook_linker [dir] dirにあるipynbのsymbolic linkを作る\n",
    "ipyrb_collector [dir] dirにあるipynbをsearchしてsymbolic linkを作る\n",
    "```\n",
    "\n",
    "jupyter notebookは便利です．\n",
    "西谷はすべての文書のもとをipynb形式にする予定です\n",
    "\n",
    "文書はtight bindingを守るべきです．\n",
    "文書のtight bindingというのは，文書をdataやcodeと同じdirectory内に置くことです．\n",
    "そうすると文書が迷子になることが少なく，移動させるときに便利です．\n",
    "\n",
    "ところが，そうして書き散らかしていると，どこのdirectoryに書いたか忘れてしまいます．\n",
    "ある似たようなtopicsがあるのだけれど，どこで書いたっけ．使い回しをしたいのだけれど．．．\n",
    "となって文書の増加とともに，探すのに時間が取られてしまいます．\n",
    "\n",
    "迷子にならないように適切なdirectory構造を作るのだけれど，\n",
    "文書のdirectory構造はcodeやdataの構造と違っていて，\n",
    "文書の増加とともに整合性を維持するのが困難になってきます．\n",
    "文書だけのdirectory構造があると便利です．\n",
    "\n",
    "そこで，ipynb形式だけを集めて，symbolic linkをつくるcliアプリを作成しました．\n",
    "これによって，symoblic linkを操作することで，実体のnotebookをいじったり，\n",
    "文書に適したdirectory構造を作ることが可能となります．\n",
    "\n",
    "このような構造は，riやmanなどのプログラミング環境文書でも提供されています．\n",
    "riはもとの文書はそれぞれのgemのdocsに置いてあります．\n",
    "riはもとの文書を編集して一箇所に集めて，readerが読みやすいように提供しています．\n",
    "\n"
   ]
  },
  {
   "cell_type": "markdown",
   "metadata": {},
   "source": [
    "# 開発項目"
   ]
  },
  {
   "cell_type": "markdown",
   "metadata": {},
   "source": [
    "## linkerの\n",
    "* search\n",
    "* symbolic_link\n",
    "  * 重複を避ける\n",
    "  * 重複ファイルがあるときは，その前のdir名を後ろにくっつける．\n",
    "* select_mv\n",
    "  * 語句が含まれているfileを移動\n",
    "* stray_catch\n",
    "  * 迷子をリストする\n",
    "  * notebooksをくって，link元がないのを表示するのは難しい\n",
    "  * notebooksをくって，link元から消していって，残ったのを表示．\n",
    "  * さらにこれを使ってmake_linkしたら一石二鳥．"
   ]
  },
  {
   "cell_type": "markdown",
   "metadata": {
    "heading_collapsed": true
   },
   "source": [
    "## rtree\n",
    "\n",
    "単なるtreeだとlink先まで表示して見にくい．そいつを切って，さらにcolorizeして表示．ARGV[0]でdir指定．treeのoptionsも正しく扱えているはずやが．．．"
   ]
  },
  {
   "cell_type": "markdown",
   "metadata": {
    "hidden": true
   },
   "source": [
    "``` ruby\n",
    "#!/usr/bin/env ruby\n",
    "require 'systemu'\n",
    "require 'colorize'\n",
    "\n",
    "opt = []\n",
    "unless ARGV[0]==nil\n",
    "  while ARGV[0].match(/^\\-/)\n",
    "    opt << ARGV.shift\n",
    "    opt << ARGV.shift\n",
    "  end\n",
    "  opts = opt.join(' ')\n",
    "  dir = ARGV[0..-1].join(' ') || '.'\n",
    "else\n",
    "  opts = nil\n",
    "  dir = nil\n",
    "end\n",
    "command = \"tree #{opts} #{dir}\"\n",
    "_s, out, _e = systemu command\n",
    "out.each_line do |line|\n",
    "  if line.include?('.ipynb')\n",
    "    puts line.split('->')[0].chomp.blue\n",
    "  else\n",
    "    puts line.chomp.green\n",
    "  end\n",
    "end\n",
    "```"
   ]
  },
  {
   "cell_type": "markdown",
   "metadata": {},
   "source": [
    "# search"
   ]
  },
  {
   "cell_type": "code",
   "execution_count": 1,
   "metadata": {},
   "outputs": [
    {
     "data": {
      "text/plain": [
       "[\"/Users/bob/Github/TeamNishitani/jupyter_num_calc/md_ipynb_conv/join_ipynb.ipynb\", \"/Users/bob/Github/TeamNishitani/jupyter_num_calc/md_ipynb_conv/md_to_ipynb.ipynb\", \"/Users/bob/Github/TeamNishitani/jupyter_num_calc/md_ipynb_conv/template.ipynb\", \"/Users/bob/Github/TeamNishitani/jupyter_num_calc/md_ipynb_conv/tmp.ipynb\", \"/Users/bob/Github/TeamNishitani/jupyter_num_calc/md_ipynb_conv/Untitled.ipynb\", \"/Users/bob/Github/TeamNishitani/jupyter_num_calc/notebooks_python/error.ipynb\", \"/Users/bob/Github/TeamNishitani/jupyter_num_calc/notebooks_python/fft.ipynb\", \"/Users/bob/Github/TeamNishitani/jupyter_num_calc/notebooks_python/fsolve.ipynb\", \"/Users/bob/Github/TeamNishitani/jupyter_num_calc/notebooks_python/interpolationintegral.ipynb\", \"/Users/bob/Github/TeamNishitani/jupyter_num_calc/notebooks_python/laeigenvectors.ipynb\", \"/Users/bob/Github/TeamNishitani/jupyter_num_calc/notebooks_python/lafundamentals.ipynb\", \"/Users/bob/Github/TeamNishitani/jupyter_num_calc/notebooks_python/lamatrixinverse.ipynb\", \"/Users/bob/Github/TeamNishitani/jupyter_num_calc/notebooks_python/leastsquarefit.ipynb\", \"/Users/bob/Github/TeamNishitani/jupyter_num_calc/notebooks_python/nonlinearfit.ipynb\", \"/Users/bob/Github/TeamNishitani/jupyter_num_calc/notebooks_python/python.ipynb\", \"/Users/bob/Github/TeamNishitani/jupyter_num_calc/notebooks_python/tmp.ipynb\", \"/Users/bob/Github/TeamNishitani/jupyter_num_calc/README.ipynb\"]"
      ]
     },
     "execution_count": 1,
     "metadata": {},
     "output_type": "execute_result"
    }
   ],
   "source": [
    "search_dirs = ['Github/TeamNishitani/jupyter_num_calc'] #,'Github','Desktop']\n",
    "except_dirs = Regexp.new(\"eagle12|yuri|naoki\")\n",
    "\n",
    "ipynbs = []\n",
    "search_dirs.each{ |dir|\n",
    "  files = Dir.glob(File.join(ENV['HOME'],\"#{dir}/**/*.ipynb\"))\n",
    "  files.each{ |file|\n",
    "    next if file.match(except_dirs)\n",
    "    ipynbs << file\n",
    "  }\n",
    "}\n",
    "\n",
    "ipynbs"
   ]
  },
  {
   "cell_type": "markdown",
   "metadata": {},
   "source": [
    "# make_link"
   ]
  },
  {
   "cell_type": "code",
   "execution_count": 5,
   "metadata": {},
   "outputs": [
    {
     "data": {
      "text/plain": [
       "[\"/Users/bob/Github/TeamNishitani/jupyter_num_calc/md_ipynb_conv/join_ipynb.ipynb\", \"/Users/bob/Github/TeamNishitani/jupyter_num_calc/md_ipynb_conv/md_to_ipynb.ipynb\", \"/Users/bob/Github/TeamNishitani/jupyter_num_calc/md_ipynb_conv/Untitled.ipynb\", \"/Users/bob/Github/TeamNishitani/jupyter_num_calc/notebooks_python/error.ipynb\", \"/Users/bob/Github/TeamNishitani/jupyter_num_calc/notebooks_python/fft.ipynb\", \"/Users/bob/Github/TeamNishitani/jupyter_num_calc/notebooks_python/fsolve.ipynb\", \"/Users/bob/Github/TeamNishitani/jupyter_num_calc/notebooks_python/interpolationintegral.ipynb\", \"/Users/bob/Github/TeamNishitani/jupyter_num_calc/notebooks_python/laeigenvectors.ipynb\", \"/Users/bob/Github/TeamNishitani/jupyter_num_calc/notebooks_python/lafundamentals.ipynb\", \"/Users/bob/Github/TeamNishitani/jupyter_num_calc/notebooks_python/lamatrixinverse.ipynb\", \"/Users/bob/Github/TeamNishitani/jupyter_num_calc/notebooks_python/leastsquarefit.ipynb\", \"/Users/bob/Github/TeamNishitani/jupyter_num_calc/notebooks_python/nonlinearfit.ipynb\", \"/Users/bob/Github/TeamNishitani/jupyter_num_calc/notebooks_python/python.ipynb\", \"/Users/bob/Github/TeamNishitani/jupyter_num_calc/notebooks_python/tmp.ipynb\"]"
      ]
     },
     "execution_count": 5,
     "metadata": {},
     "output_type": "execute_result"
    }
   ],
   "source": [
    "require 'fileutils'\n",
    "ipynbs.each{ |file|\n",
    "  name = File.basename(file)\n",
    "  begin\n",
    "    FileUtils.ln_s(file, name)\n",
    "  rescue => e\n",
    "    p e.message\n",
    "    dir = File.basename(File.dirname(file))\n",
    "    base = File.basename(file,'.ipynb')\n",
    "    p target = base+\"_\"+dir+\".ipynb\"\n",
    "    begin\n",
    "      FileUtils.ln_s(file, target)\n",
    "    rescue => e\n",
    "      p e.message\n",
    "    end\n",
    "  end\n",
    "}"
   ]
  },
  {
   "cell_type": "markdown",
   "metadata": {
    "heading_collapsed": true
   },
   "source": [
    "# time_sort"
   ]
  },
  {
   "cell_type": "code",
   "execution_count": 19,
   "metadata": {
    "hidden": true
   },
   "outputs": [
    {
     "name": "stdout",
     "output_type": "stream",
     "text": [
      "\"/Users/bob/Github/boundary/bob/notebook/find_min.ipynb\"\n",
      "\"/Users/bob/Github/boundary/bob/notebook/ReadShockley.ipynb\"\n",
      "\"/Users/bob/Github/boundary/bob/notebook/research_all.ipynb\"\n",
      "\"/Users/bob/Github/boundary/bob/notebook/README.ipynb\"\n",
      "\"/Users/bob/Github/boundary/bob/notebook/boundary_calc_procedures.ipynb\"\n",
      "\"/Users/bob/Github/boundary/bob/notebook/modeler.ipynb\"\n",
      "\"/Users/bob/Github/boundary/bob/notebook/size_dependency.ipynb\"\n",
      "\"/Users/bob/Github/TeamNishitani/ruby_novice/docs/test_rspec/README.ipynb\"\n",
      "\"/Users/bob/Github/TeamNishitani/ruby_novice/docs/test_rspec/RussOlsen_Eloquent/README.ipynb\"\n",
      "\"/Users/bob/Github/TeamNishitani/ruby_novice/docs/happy_ruby/Untitled.ipynb\"\n",
      "\"/Users/bob/Github/TeamNishitani/ruby_novice/docs/happy_ruby/c2.ipynb\"\n",
      "\"/Users/bob/Github/TeamNishitani/ruby_novice/docs/happy_ruby/c3_4.ipynb\"\n",
      "\"/Users/bob/Github/TeamNishitani/jupyter_maple/lib/Untitled.ipynb\"\n",
      "\"/Users/bob/Github/TeamNishitani/jupyter_num_calc/md_ipynb_conv/template.ipynb\"\n",
      "\"/Users/bob/Github/boundary/bob/data/find_min/README.ipynb\"\n",
      "\"/Users/bob/Github/boundary/bob/data/find_min/size_dependency.ipynb\"\n",
      "\"/Users/bob/Github/TeamNishitani/jupyter_num_calc/notebooks/interpolationintegral.ipynb\"\n",
      "\"/Users/bob/Github/TeamNishitani/jupyter_num_calc/notebooks/python.ipynb\"\n",
      "\"/Users/bob/Github/TeamNishitani/jupyter_num_calc/notebooks/lafundamentals.ipynb\"\n",
      "\"/Users/bob/Github/TeamNishitani/jupyter_num_calc/notebooks/nonlinearfit.ipynb\"\n",
      "\"/Users/bob/Github/TeamNishitani/jupyter_num_calc/notebooks/leastsquarefit.ipynb\"\n",
      "\"/Users/bob/Github/TeamNishitani/jupyter_num_calc/md_ipynb_conv/tmp.ipynb\"\n",
      "\"/Users/bob/Github/TeamNishitani/jupyter_num_calc/md_ipynb_conv/README.ipynb\"\n",
      "\"/Users/bob/Github/TeamNishitani/jupyter_num_calc/notebooks/fsolve.ipynb\"\n",
      "\"/Users/bob/Github/TeamNishitani/jupyter_num_calc/notebooks/error.ipynb\"\n",
      "\"/Users/bob/Github/TeamNishitani/jupyter_num_calc/notebooks/lamatrixinverse.ipynb\"\n",
      "\"/Users/bob/Github/TeamNishitani/jupyter_num_calc/notebooks/laeigenvectors.ipynb\"\n",
      "\"/Users/bob/Github/TeamNishitani/jupyter_num_calc/notebooks/fft.ipynb\"\n",
      "\"/Users/bob/Github/TeamNishitani/jupyter_num_calc/README.ipynb\"\n",
      "\"/Users/bob/Github/TeamNishitani/grad_research_2017/bob/README.ipynb\"\n",
      "\"/Users/bob/Github/TeamNishitani/ruby_novice/README.ipynb\"\n",
      "\"/Users/bob/Github/TeamNishitani/ruby_novice/docs/jupyter_notebook/README.ipynb\"\n",
      "\"/Users/bob/Github/TeamNishitani/ruby_novice/docs/README.ipynb\"\n",
      "\"/Users/bob/Github/TeamNishitani/grad_research_2017/README.ipynb\"\n",
      "\"/Users/bob/Github/TeamNishitani/jupyter_maple/Untitled.ipynb\"\n",
      "\"\"\n"
     ]
    },
    {
     "data": {
      "text/plain": [
       "\"\""
      ]
     },
     "execution_count": 19,
     "metadata": {},
     "output_type": "execute_result"
    }
   ],
   "source": [
    "sorted = ipynbs.sort_by{ |file|\n",
    "  File::Stat.new(file)\n",
    "}\n",
    "\n",
    "\n",
    "dirs = []\n",
    "sorted.each{ |file|\n",
    "  p file\n",
    "  dir = File.dirname(file)\n",
    "  dirs << dir unless dirs.include?(dir)\n",
    "}\n",
    "\n",
    "p \"\""
   ]
  },
  {
   "cell_type": "markdown",
   "metadata": {
    "heading_collapsed": true
   },
   "source": [
    "# tree display"
   ]
  },
  {
   "cell_type": "code",
   "execution_count": 1,
   "metadata": {
    "hidden": true
   },
   "outputs": [
    {
     "name": "stdout",
     "output_type": "stream",
     "text": [
      "│   ├── Untitled.ipynb\n",
      "│   │   ├── c2_Perceptron.ipynb\n",
      "│   │   ├── c3_NeuralNetwork.ipynb\n",
      "│   │   ├── c4_NeuralNetwork_training.ipynb\n",
      "│   │   ├── c5_ErrorBackwardProp.ipynb\n",
      "│   │   ├── c7_CNN.ipynb\n",
      "│   ├── FirstLeaf.ipynb\n",
      "│   ├── functions.ipynb\n",
      "│   └── linear_solve.ipynb\n",
      "├── first_notebook.ipynb\n",
      "│   ├── MullerGuido.ipynb\n",
      "│   ├── Untitled.ipynb\n",
      "└── sympy.ipynb\n",
      "\n"
     ]
    }
   ],
   "source": [
    "require 'systemu'\n",
    "\n",
    "status, stdout, stderr = systemu \"tree ../python | grep ipynb\"\n",
    "puts stdout\n"
   ]
  },
  {
   "cell_type": "markdown",
   "metadata": {
    "collapsed": true
   },
   "source": [
    "# select_mv"
   ]
  },
  {
   "cell_type": "code",
   "execution_count": 11,
   "metadata": {},
   "outputs": [
    {
     "name": "stdout",
     "output_type": "stream",
     "text": [
      "\"Invalid argument @ rb_readlink - ./install_notebook.ipynb\"\n",
      "\"Invalid argument @ rb_readlink - ./ipynb_utils/join_ipynb.ipynb\"\n",
      "\"Invalid argument @ rb_readlink - ./ipynb_utils/md_to_ipynb.ipynb\"\n",
      "\"Invalid argument @ rb_readlink - ./ipynb_utils/template.ipynb\"\n",
      "\"Invalid argument @ rb_readlink - ./ipynb_utils/tmp.ipynb\"\n",
      "\"Invalid argument @ rb_readlink - ./ipynb_utils/Untitled.ipynb\"\n",
      "\"Invalid argument @ rb_readlink - ./notebook_linker.ipynb\"\n",
      "\"Invalid argument @ rb_readlink - ./notebook_rule.ipynb\"\n"
     ]
    }
   ],
   "source": [
    "\n",
    "grep_word = 'jupyter_num_calc'\n",
    "select_files = []\n",
    "Dir.glob('./**/*.ipynb'){ |file|\n",
    "  begin\n",
    "    link_name = File.readlink(file)\n",
    "  rescue => e\n",
    "    p e.message\n",
    "    next\n",
    "  end\n",
    "  next unless link_name.index(grep_word)\n",
    "  FileUtils.mv(file, grep_word, :verbose=>true)\n",
    "}"
   ]
  },
  {
   "cell_type": "markdown",
   "metadata": {},
   "source": [
    "# stray_catch\n",
    "\n",
    "迷子ファイルを見つける．むづかしそう．まずは一致を見ればいいか．"
   ]
  },
  {
   "cell_type": "code",
   "execution_count": 2,
   "metadata": {},
   "outputs": [
    {
     "name": "stdout",
     "output_type": "stream",
     "text": [
      "#<Errno::EINVAL: Invalid argument @ rb_readlink - ./install_notebook.ipynb>\n",
      "#<Errno::EINVAL: Invalid argument @ rb_readlink - ./ipynb_utils/join_ipynb.ipynb>\n",
      "#<Errno::EINVAL: Invalid argument @ rb_readlink - ./ipynb_utils/md_to_ipynb.ipynb>\n",
      "#<Errno::EINVAL: Invalid argument @ rb_readlink - ./ipynb_utils/template.ipynb>\n",
      "#<Errno::EINVAL: Invalid argument @ rb_readlink - ./ipynb_utils/tmp.ipynb>\n",
      "#<Errno::EINVAL: Invalid argument @ rb_readlink - ./ipynb_utils/Untitled.ipynb>\n",
      "#<Errno::EINVAL: Invalid argument @ rb_readlink - ./notebook_linker.ipynb>\n",
      "#<Errno::EINVAL: Invalid argument @ rb_readlink - ./notebook_rule.ipynb>\n",
      "\"/Users/bob/Github/TeamNishitani/jupyter_num_calc/md_ipynb_conv/join_ipynb.ipynb\"\n",
      "\"/Users/bob/Github/TeamNishitani/jupyter_num_calc/md_ipynb_conv/md_to_ipynb.ipynb\"\n",
      "\"/Users/bob/Github/TeamNishitani/jupyter_num_calc/md_ipynb_conv/Untitled.ipynb\"\n",
      "\"/Users/bob/Github/TeamNishitani/jupyter_num_calc/notebooks_python/error.ipynb\"\n",
      "\"/Users/bob/Github/TeamNishitani/jupyter_num_calc/notebooks_python/fft.ipynb\"\n",
      "\"/Users/bob/Github/TeamNishitani/jupyter_num_calc/notebooks_python/fsolve.ipynb\"\n",
      "\"/Users/bob/Github/TeamNishitani/jupyter_num_calc/notebooks_python/interpolationintegral.ipynb\"\n",
      "\"/Users/bob/Github/TeamNishitani/jupyter_num_calc/notebooks_python/laeigenvectors.ipynb\"\n",
      "\"/Users/bob/Github/TeamNishitani/jupyter_num_calc/notebooks_python/lafundamentals.ipynb\"\n",
      "\"/Users/bob/Github/TeamNishitani/jupyter_num_calc/notebooks_python/lamatrixinverse.ipynb\"\n",
      "\"/Users/bob/Github/TeamNishitani/jupyter_num_calc/notebooks_python/leastsquarefit.ipynb\"\n",
      "\"/Users/bob/Github/TeamNishitani/jupyter_num_calc/notebooks_python/nonlinearfit.ipynb\"\n",
      "\"/Users/bob/Github/TeamNishitani/jupyter_num_calc/notebooks_python/python.ipynb\"\n",
      "\"/Users/bob/Github/TeamNishitani/jupyter_num_calc/notebooks_python/tmp.ipynb\"\n"
     ]
    },
    {
     "data": {
      "text/plain": [
       "[\"/Users/bob/Github/TeamNishitani/jupyter_num_calc/md_ipynb_conv/join_ipynb.ipynb\", \"/Users/bob/Github/TeamNishitani/jupyter_num_calc/md_ipynb_conv/md_to_ipynb.ipynb\", \"/Users/bob/Github/TeamNishitani/jupyter_num_calc/md_ipynb_conv/Untitled.ipynb\", \"/Users/bob/Github/TeamNishitani/jupyter_num_calc/notebooks_python/error.ipynb\", \"/Users/bob/Github/TeamNishitani/jupyter_num_calc/notebooks_python/fft.ipynb\", \"/Users/bob/Github/TeamNishitani/jupyter_num_calc/notebooks_python/fsolve.ipynb\", \"/Users/bob/Github/TeamNishitani/jupyter_num_calc/notebooks_python/interpolationintegral.ipynb\", \"/Users/bob/Github/TeamNishitani/jupyter_num_calc/notebooks_python/laeigenvectors.ipynb\", \"/Users/bob/Github/TeamNishitani/jupyter_num_calc/notebooks_python/lafundamentals.ipynb\", \"/Users/bob/Github/TeamNishitani/jupyter_num_calc/notebooks_python/lamatrixinverse.ipynb\", \"/Users/bob/Github/TeamNishitani/jupyter_num_calc/notebooks_python/leastsquarefit.ipynb\", \"/Users/bob/Github/TeamNishitani/jupyter_num_calc/notebooks_python/nonlinearfit.ipynb\", \"/Users/bob/Github/TeamNishitani/jupyter_num_calc/notebooks_python/python.ipynb\", \"/Users/bob/Github/TeamNishitani/jupyter_num_calc/notebooks_python/tmp.ipynb\"]"
      ]
     },
     "execution_count": 2,
     "metadata": {},
     "output_type": "execute_result"
    }
   ],
   "source": [
    "select_files = []\n",
    "Dir.glob('./**/*.ipynb'){ |file|\n",
    "  begin \n",
    "    link_name = File.readlink(file)\n",
    "  rescue => e\n",
    "    p e\n",
    "  end\n",
    "  next unless ipynbs.include?(link_name)\n",
    "  ipynbs.delete(link_name)\n",
    "}\n",
    "ipynbs.each{|file| p file }"
   ]
  },
  {
   "cell_type": "code",
   "execution_count": 4,
   "metadata": {},
   "outputs": [
    {
     "name": "stdout",
     "output_type": "stream",
     "text": [
      "[\"/Users/bob/Github/TeamNishitani/jupyter_num_calc/md_ipynb_conv/join_ipynb.ipynb\", \"/Users/bob/Github/TeamNishitani/jupyter_num_calc/md_ipynb_conv/md_to_ipynb.ipynb\", \"/Users/bob/Github/TeamNishitani/jupyter_num_calc/md_ipynb_conv/Untitled.ipynb\", \"/Users/bob/Github/TeamNishitani/jupyter_num_calc/notebooks_python/error.ipynb\", \"/Users/bob/Github/TeamNishitani/jupyter_num_calc/notebooks_python/fft.ipynb\", \"/Users/bob/Github/TeamNishitani/jupyter_num_calc/notebooks_python/fsolve.ipynb\", \"/Users/bob/Github/TeamNishitani/jupyter_num_calc/notebooks_python/interpolationintegral.ipynb\", \"/Users/bob/Github/TeamNishitani/jupyter_num_calc/notebooks_python/laeigenvectors.ipynb\", \"/Users/bob/Github/TeamNishitani/jupyter_num_calc/notebooks_python/lafundamentals.ipynb\", \"/Users/bob/Github/TeamNishitani/jupyter_num_calc/notebooks_python/lamatrixinverse.ipynb\", \"/Users/bob/Github/TeamNishitani/jupyter_num_calc/notebooks_python/leastsquarefit.ipynb\", \"/Users/bob/Github/TeamNishitani/jupyter_num_calc/notebooks_python/nonlinearfit.ipynb\", \"/Users/bob/Github/TeamNishitani/jupyter_num_calc/notebooks_python/python.ipynb\", \"/Users/bob/Github/TeamNishitani/jupyter_num_calc/notebooks_python/tmp.ipynb\"]\n"
     ]
    },
    {
     "data": {
      "text/plain": [
       "[\"/Users/bob/Github/TeamNishitani/jupyter_num_calc/md_ipynb_conv/join_ipynb.ipynb\", \"/Users/bob/Github/TeamNishitani/jupyter_num_calc/md_ipynb_conv/md_to_ipynb.ipynb\", \"/Users/bob/Github/TeamNishitani/jupyter_num_calc/md_ipynb_conv/Untitled.ipynb\", \"/Users/bob/Github/TeamNishitani/jupyter_num_calc/notebooks_python/error.ipynb\", \"/Users/bob/Github/TeamNishitani/jupyter_num_calc/notebooks_python/fft.ipynb\", \"/Users/bob/Github/TeamNishitani/jupyter_num_calc/notebooks_python/fsolve.ipynb\", \"/Users/bob/Github/TeamNishitani/jupyter_num_calc/notebooks_python/interpolationintegral.ipynb\", \"/Users/bob/Github/TeamNishitani/jupyter_num_calc/notebooks_python/laeigenvectors.ipynb\", \"/Users/bob/Github/TeamNishitani/jupyter_num_calc/notebooks_python/lafundamentals.ipynb\", \"/Users/bob/Github/TeamNishitani/jupyter_num_calc/notebooks_python/lamatrixinverse.ipynb\", \"/Users/bob/Github/TeamNishitani/jupyter_num_calc/notebooks_python/leastsquarefit.ipynb\", \"/Users/bob/Github/TeamNishitani/jupyter_num_calc/notebooks_python/nonlinearfit.ipynb\", \"/Users/bob/Github/TeamNishitani/jupyter_num_calc/notebooks_python/python.ipynb\", \"/Users/bob/Github/TeamNishitani/jupyter_num_calc/notebooks_python/tmp.ipynb\"]"
      ]
     },
     "execution_count": 4,
     "metadata": {},
     "output_type": "execute_result"
    }
   ],
   "source": [
    "p ipynbs"
   ]
  },
  {
   "cell_type": "code",
   "execution_count": null,
   "metadata": {
    "collapsed": true
   },
   "outputs": [],
   "source": []
  }
 ],
 "metadata": {
  "kernelspec": {
   "display_name": "Ruby 2.2.2",
   "language": "ruby",
   "name": "ruby"
  },
  "language_info": {
   "file_extension": ".rb",
   "mimetype": "application/x-ruby",
   "name": "ruby",
   "version": "2.2.2"
  },
  "latex_envs": {
   "LaTeX_envs_menu_present": true,
   "autocomplete": true,
   "bibliofile": "biblio.bib",
   "cite_by": "apalike",
   "current_citInitial": 1,
   "eqLabelWithNumbers": true,
   "eqNumInitial": 1,
   "hotkeys": {
    "equation": "Ctrl-E",
    "itemize": "Ctrl-I"
   },
   "labels_anchors": false,
   "latex_user_defs": false,
   "report_style_numbering": false,
   "user_envs_cfg": false
  },
  "toc": {
   "colors": {
    "hover_highlight": "#DAA520",
    "navigate_num": "#000000",
    "navigate_text": "#333333",
    "running_highlight": "#FF0000",
    "selected_highlight": "#FFD700",
    "sidebar_border": "#EEEEEE",
    "wrapper_background": "#FFFFFF"
   },
   "moveMenuLeft": true,
   "nav_menu": {
    "height": "12px",
    "width": "252px"
   },
   "navigate_menu": true,
   "number_sections": true,
   "sideBar": true,
   "threshold": 4,
   "toc_cell": true,
   "toc_section_display": "block",
   "toc_window_display": true,
   "widenNotebook": false
  }
 },
 "nbformat": 4,
 "nbformat_minor": 2
}
