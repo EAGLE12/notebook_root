{
 "cells": [
  {
   "cell_type": "markdown",
   "metadata": {
    "toc": "true"
   },
   "source": [
    "# Table of Contents\n",
    " <p><div class=\"lev1 toc-item\"><a href=\"#README\" data-toc-modified-id=\"README-1\"><span class=\"toc-item-num\">1&nbsp;&nbsp;</span>README</a></div><div class=\"lev1 toc-item\"><a href=\"#粒界のエネルギー計算\" data-toc-modified-id=\"粒界のエネルギー計算-2\"><span class=\"toc-item-num\">2&nbsp;&nbsp;</span>粒界のエネルギー計算</a></div><div class=\"lev1 toc-item\"><a href=\"#jupyter-notebookの検証\" data-toc-modified-id=\"jupyter-notebookの検証-3\"><span class=\"toc-item-num\">3&nbsp;&nbsp;</span>jupyter notebookの検証</a></div><div class=\"lev1 toc-item\"><a href=\"#notebook作成上のrule\" data-toc-modified-id=\"notebook作成上のrule-4\"><span class=\"toc-item-num\">4&nbsp;&nbsp;</span>notebook作成上のrule</a></div><div class=\"lev1 toc-item\"><a href=\"#latexへのconvert\" data-toc-modified-id=\"latexへのconvert-5\"><span class=\"toc-item-num\">5&nbsp;&nbsp;</span>latexへのconvert</a></div>"
   ]
  },
  {
   "cell_type": "markdown",
   "metadata": {},
   "source": [
    "# README\n",
    "* 2017/08/15 start writing by bob"
   ]
  },
  {
   "cell_type": "markdown",
   "metadata": {},
   "source": [
    "# 粒界のエネルギー計算\n",
    "1. 研究内容\n",
    "   1. [research_all](research_all.ipynb)\n",
    "   1. [ReadShockley](./ReadShockley.ipynb)\n",
    "   1. [size_dependency](./size_dependency.ipynb)\n",
    "1. 計算手順\n",
    "   1. [boundary_calc_procedures](./boundary_calc_procedures.ipynb)\n",
    "   1. [modeler](./modeler.ipynb)\n",
    "   1. vaspへのsubmit\n",
    "   1. データの収集\n",
    "   1. [find_min](./find_min.ipynb)\n",
    "   1. eam解析\n",
    "\n"
   ]
  }
 ],
 "metadata": {
  "kernelspec": {
   "display_name": "Ruby 2.2.2",
   "language": "ruby",
   "name": "ruby"
  },
  "language_info": {
   "file_extension": ".rb",
   "mimetype": "application/x-ruby",
   "name": "ruby",
   "version": "2.2.2"
  },
  "latex_envs": {
   "LaTeX_envs_menu_present": true,
   "autocomplete": true,
   "bibliofile": "biblio.bib",
   "cite_by": "apalike",
   "current_citInitial": 1,
   "eqLabelWithNumbers": true,
   "eqNumInitial": 1,
   "hotkeys": {
    "equation": "Ctrl-E",
    "itemize": "Ctrl-I"
   },
   "labels_anchors": false,
   "latex_user_defs": false,
   "report_style_numbering": false,
   "user_envs_cfg": false
  },
  "toc": {
   "colors": {
    "hover_highlight": "#DAA520",
    "navigate_num": "#000000",
    "navigate_text": "#333333",
    "running_highlight": "#FF0000",
    "selected_highlight": "#FFD700",
    "sidebar_border": "#EEEEEE",
    "wrapper_background": "#FFFFFF"
   },
   "moveMenuLeft": true,
   "nav_menu": {
    "height": "48px",
    "width": "252px"
   },
   "navigate_menu": true,
   "number_sections": true,
   "sideBar": true,
   "skip_h1_title": false,
   "threshold": 4,
   "toc_cell": true,
   "toc_section_display": "block",
   "toc_window_display": true,
   "widenNotebook": false
  }
 },
 "nbformat": 4,
 "nbformat_minor": 2
}
