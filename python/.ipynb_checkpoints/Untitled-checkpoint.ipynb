{
 "cells": [
  {
   "cell_type": "markdown",
   "metadata": {
    "toc": "true"
   },
   "source": [
    "# Table of Contents\n",
    " <p><div class=\"lev1 toc-item\"><a href=\"#教師あり学習\" data-toc-modified-id=\"教師あり学習-1\"><span class=\"toc-item-num\">1&nbsp;&nbsp;</span>教師あり学習</a></div><div class=\"lev2 toc-item\"><a href=\"#汎化，過剰適合，適合不足\" data-toc-modified-id=\"汎化，過剰適合，適合不足-11\"><span class=\"toc-item-num\">1.1&nbsp;&nbsp;</span>汎化，過剰適合，適合不足</a></div><div class=\"lev2 toc-item\"><a href=\"#アルゴリズム\" data-toc-modified-id=\"アルゴリズム-12\"><span class=\"toc-item-num\">1.2&nbsp;&nbsp;</span>アルゴリズム</a></div><div class=\"lev3 toc-item\"><a href=\"#k-最近傍法\" data-toc-modified-id=\"k-最近傍法-121\"><span class=\"toc-item-num\">1.2.1&nbsp;&nbsp;</span>k-最近傍法</a></div><div class=\"lev2 toc-item\"><a href=\"#線形モデル\" data-toc-modified-id=\"線形モデル-13\"><span class=\"toc-item-num\">1.3&nbsp;&nbsp;</span>線形モデル</a></div><div class=\"lev3 toc-item\"><a href=\"#最少2乗法\" data-toc-modified-id=\"最少2乗法-131\"><span class=\"toc-item-num\">1.3.1&nbsp;&nbsp;</span>最少2乗法</a></div><div class=\"lev3 toc-item\"><a href=\"#リッジ回帰\" data-toc-modified-id=\"リッジ回帰-132\"><span class=\"toc-item-num\">1.3.2&nbsp;&nbsp;</span>リッジ回帰</a></div><div class=\"lev1 toc-item\"><a href=\"#教師なし学習\" data-toc-modified-id=\"教師なし学習-2\"><span class=\"toc-item-num\">2&nbsp;&nbsp;</span>教師なし学習</a></div>"
   ]
  },
  {
   "cell_type": "markdown",
   "metadata": {},
   "source": [
    "# 教師あり学習"
   ]
  },
  {
   "cell_type": "code",
   "execution_count": 1,
   "metadata": {
    "collapsed": true
   },
   "outputs": [],
   "source": [
    "%matplotlib inline\n",
    "import numpy as np\n",
    "import matplotlib.pyplot as plt\n",
    "import pandas as pd\n",
    "import mglearn\n",
    "from IPython.display import display"
   ]
  },
  {
   "cell_type": "markdown",
   "metadata": {},
   "source": [
    "回帰と分類，分類も2クラスと多クラス\n",
    "\n",
    "他は，超平面とか，線形とか．．．\n",
    "\n",
    "## 汎化，過剰適合，適合不足\n",
    "## アルゴリズム\n",
    "### k-最近傍法\n",
    "## 線形モデル\n",
    "### 最少2乗法\n",
    "### リッジ回帰"
   ]
  },
  {
   "cell_type": "code",
   "execution_count": 13,
   "metadata": {},
   "outputs": [
    {
     "name": "stdout",
     "output_type": "stream",
     "text": [
      "X.shape: (26, 2)\n"
     ]
    },
    {
     "data": {
      "image/png": "[encoded data removed]",
      "text/plain": [
       "<matplotlib.figure.Figure at 0x11a397278>"
      ]
     },
     "metadata": {},
     "output_type": "display_data"
    }
   ],
   "source": [
    "X, y = mglearn.datasets.make_forge()\n",
    "\n",
    "mglearn.discrete_scatter(X[:, 0], X[:,1],y)\n",
    "plt.legend([\"Class 0\", \"Class 1\"], loc=5)\n",
    "plt.xlabel(\"First feature\")\n",
    "plt.ylabel(\"Second feature\")\n",
    "print(\"X.shape: {}\".format(X.shape))"
   ]
  },
  {
   "cell_type": "code",
   "execution_count": 19,
   "metadata": {},
   "outputs": [
    {
     "data": {
      "text/plain": [
       "<matplotlib.text.Text at 0x11a42ac50>"
      ]
     },
     "execution_count": 19,
     "metadata": {},
     "output_type": "execute_result"
    },
    {
     "data": {
      "image/png": "[encoded data removed]",
      "text/plain": [
       "<matplotlib.figure.Figure at 0x11a7dad68>"
      ]
     },
     "metadata": {},
     "output_type": "display_data"
    }
   ],
   "source": [
    "X, y = mglearn.datasets.make_wave(n_samples=80)\n",
    "plt.plot(X,y,'o')\n",
    "plt.ylim(-3,3)\n",
    "plt.xlabel(\"Feature\")\n",
    "plt.ylabel(\"Target\")"
   ]
  },
  {
   "cell_type": "markdown",
   "metadata": {},
   "source": [
    "# 教師なし学習"
   ]
  },
  {
   "cell_type": "code",
   "execution_count": null,
   "metadata": {
    "collapsed": true
   },
   "outputs": [],
   "source": []
  }
 ],
 "metadata": {
  "kernelspec": {
   "display_name": "Python 3",
   "language": "python",
   "name": "python3"
  },
  "language_info": {
   "codemirror_mode": {
    "name": "ipython",
    "version": 3
   },
   "file_extension": ".py",
   "mimetype": "text/x-python",
   "name": "python",
   "nbconvert_exporter": "python",
   "pygments_lexer": "ipython3",
   "version": "3.6.1"
  },
  "latex_envs": {
   "LaTeX_envs_menu_present": true,
   "autocomplete": true,
   "bibliofile": "biblio.bib",
   "cite_by": "apalike",
   "current_citInitial": 1,
   "eqLabelWithNumbers": true,
   "eqNumInitial": 1,
   "hotkeys": {
    "equation": "Ctrl-E",
    "itemize": "Ctrl-I"
   },
   "labels_anchors": false,
   "latex_user_defs": false,
   "report_style_numbering": false,
   "user_envs_cfg": false
  },
  "toc": {
   "colors": {
    "hover_highlight": "#DAA520",
    "navigate_num": "#000000",
    "navigate_text": "#333333",
    "running_highlight": "#FF0000",
    "selected_highlight": "#FFD700",
    "sidebar_border": "#EEEEEE",
    "wrapper_background": "#FFFFFF"
   },
   "moveMenuLeft": true,
   "nav_menu": {
    "height": "156px",
    "width": "252px"
   },
   "navigate_menu": true,
   "number_sections": true,
   "sideBar": true,
   "threshold": 4,
   "toc_cell": true,
   "toc_section_display": "block",
   "toc_window_display": true,
   "widenNotebook": false
  }
 },
 "nbformat": 4,
 "nbformat_minor": 2
}
