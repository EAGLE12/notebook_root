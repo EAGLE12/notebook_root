{
 "cells": [
  {
   "cell_type": "markdown",
   "metadata": {
    "toc": "true"
   },
   "source": [
    "# Table of Contents\n",
    " <p><div class=\"lev1 toc-item\"><a href=\"#README\" data-toc-modified-id=\"README-1\"><span class=\"toc-item-num\">1&nbsp;&nbsp;</span>README</a></div><div class=\"lev1 toc-item\"><a href=\"#jupyter-notebookの検証\" data-toc-modified-id=\"jupyter-notebookの検証-2\"><span class=\"toc-item-num\">2&nbsp;&nbsp;</span>jupyter notebookの検証</a></div><div class=\"lev1 toc-item\"><a href=\"#notebook作成上のrule\" data-toc-modified-id=\"notebook作成上のrule-3\"><span class=\"toc-item-num\">3&nbsp;&nbsp;</span>notebook作成上のrule</a></div><div class=\"lev1 toc-item\"><a href=\"#latexへのconvert\" data-toc-modified-id=\"latexへのconvert-4\"><span class=\"toc-item-num\">4&nbsp;&nbsp;</span>latexへのconvert</a></div>"
   ]
  },
  {
   "cell_type": "markdown",
   "metadata": {},
   "source": [
    "<br />\n",
    "\n",
    "<div style=\"text-align: center;\">\n",
    "<font size=\"7\">notebookの基本的な使い方</font>\n",
    "</div>\n",
    "<br />\n",
    "<div style=\"text-align: right;\">\n",
    "<font size=\"4\">cc 2017 by Shigeto R. Nishitani</font>\n",
    "</div>\n",
    "\n",
    "<br />\n",
    "\n",
    "* "
   ]
  },
  {
   "cell_type": "markdown",
   "metadata": {},
   "source": [
    "# README\n",
    "\n",
    "notebook作成の手順や掟に関する著述をここへまとめる．\n",
    "\n",
    "あんまり構造が良くなさそう．これは，Pythonの性格からきているのか．．．\n",
    "言語が思考を縛るというのは良くある話で．バベル87やったっけ？\n",
    "\n",
    "ちごうた．\n",
    "バベル17 (ハヤカワ文庫 SF 248) 文庫 – 2008/7/15\n",
    "サミュエル R.ディレイニー (著), 岡部 宏之 (翻訳)\n",
    "こんなに新しないで．\n",
    "\n",
    "# jupyter notebookの検証\n",
    "\n",
    "\n",
    "たんなるmdだとfigの位置や数式の表示に不具合が生じる．したがって，ipynbでのuploadが良さそう．\n",
    "\n",
    "# notebook作成上のrule\n",
    "\n",
    "- jupyter notebookで作る\n",
    "- figsにfiguresを置く\n",
    "- rake convert SIZEでgraphsのサイズを縮小\n",
    "- rake mk_wholeなどで最新データをupdateした図を自動生成\n",
    "- git add, commit, pushでgithubへ登録\n",
    "\n",
    "# latexへのconvert\n",
    "``` bash\n",
    "bob% jupyter nbconvert --to latex README.ipynb\n",
    "bob% open README.tex\n",
    "bob% platex README.tex\n",
    "```\n",
    "\n",
    "このままではgraphを含んでいるときにだめ．\n",
    "\n",
    "- \\documentclass[11pt,dvipdfmx]{jsarticle}\n",
    "- extractbbでxbbを作成．"
   ]
  },
  {
   "cell_type": "code",
   "execution_count": null,
   "metadata": {
    "collapsed": true
   },
   "outputs": [],
   "source": []
  }
 ],
 "metadata": {
  "kernelspec": {
   "display_name": "Bash",
   "language": "bash",
   "name": "bash"
  },
  "language_info": {
   "codemirror_mode": "shell",
   "file_extension": ".sh",
   "mimetype": "text/x-sh",
   "name": "bash"
  },
  "latex_envs": {
   "LaTeX_envs_menu_present": true,
   "autocomplete": true,
   "bibliofile": "biblio.bib",
   "cite_by": "apalike",
   "current_citInitial": 1,
   "eqLabelWithNumbers": true,
   "eqNumInitial": 1,
   "hotkeys": {
    "equation": "Ctrl-E",
    "itemize": "Ctrl-I"
   },
   "labels_anchors": false,
   "latex_user_defs": false,
   "report_style_numbering": false,
   "user_envs_cfg": false
  },
  "toc": {
   "colors": {
    "hover_highlight": "#DAA520",
    "navigate_num": "#000000",
    "navigate_text": "#333333",
    "running_highlight": "#FF0000",
    "selected_highlight": "#FFD700",
    "sidebar_border": "#EEEEEE",
    "wrapper_background": "#FFFFFF"
   },
   "moveMenuLeft": true,
   "nav_menu": {
    "height": "85px",
    "width": "252px"
   },
   "navigate_menu": true,
   "number_sections": true,
   "sideBar": true,
   "threshold": 4,
   "toc_cell": true,
   "toc_section_display": "block",
   "toc_window_display": true,
   "widenNotebook": false
  }
 },
 "nbformat": 4,
 "nbformat_minor": 2
}
