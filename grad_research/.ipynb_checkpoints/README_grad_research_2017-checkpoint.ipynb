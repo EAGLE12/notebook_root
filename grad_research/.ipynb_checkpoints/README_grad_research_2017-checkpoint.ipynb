{
 "cells": [
  {
   "cell_type": "markdown",
   "metadata": {},
   "source": [
    "# README\n",
    "\n",
    "* /Users/bob/Github/grad_research_2017\n",
    "* origin\tgit@github.com:TeamNishitani/grad_research_2017.git (fetch)\n",
    "* 2017-08-24 14:28:01 by bob"
   ]
  },
  {
   "cell_type": "markdown",
   "metadata": {},
   "source": [
    "# grad_research_2017"
   ]
  },
  {
   "cell_type": "markdown",
   "metadata": {},
   "source": [
    "「卒業論文の作成に必要なファイルをすべてこのdirectoryにまとめておけばいいやん．」\n",
    "という動機で作り始めたDirectory. 整理，README, Github連携，作業駆動などを模索．\n"
   ]
  },
  {
   "cell_type": "markdown",
   "metadata": {},
   "source": [
    "# 課題と担当者，メモ\n",
    "\n",
    "## 菊岡，宮下，藤村\n",
    "三人とも粒界エネルギー計算だが，\n",
    "* 藤村, Cuの計算\n",
    "* 宮下，Alの計算だけど，巨大系での計算の自動化\n",
    "* 菊岡，AlのEAM解析の自動作成\n",
    "\n",
    "これらはjupyter notebookで中身を細分化して，マニュアル化していけばいいか．\n",
    "\n",
    "## rubyでmaple(辻)\n",
    "\n",
    "これもいいんだけど，jupyterでmapleというのも魅力．\n",
    "\n",
    "* [Io 言語の Jupyter Kernel を作る with Docker](https://matsubara0507.github.io/posts/2017-04-18-create-io-kernel-for-jupyter.html)\n",
    "* [Jupyter の Egison 簡易カーネルを自作してみた](http://qiita.com/antimon2/items/7d9c084b142d38b67b1f)"
   ]
  },
  {
   "cell_type": "markdown",
   "metadata": {},
   "source": [
    "# MacBookProの環境設定\n"
   ]
  },
  {
   "cell_type": "markdown",
   "metadata": {},
   "source": [
    "- github, ssh-keygen\n",
    "- xcodeのinstall\n",
    "- .cshrcの設定ファイル[cshrc](./conf_files/cshrc)\n",
    "- .emacs.dの設定ファイル\n",
    "  - バグがありました．これ[emacs.tgz](./conf_files/emacs.tgz)をDLして展開し(tar -xvf emacs.tar)，home directoryの下に.emacs.dとして入れてください．\n",
    "- 日本語エディターmi関連\n",
    "  - これ[emacs_keybind_for_mi](./conf_files/emacs_keybind_for_mi)を「モードごとの設定」の「標準」のキーバインドでインポートしてください．\n",
    "  - これ[hiki_mode_for_mi.tgz](./conf_files/hiki_mode_for_mi.tgz)を展開して，miの「新規モード追加」からインポートしてください．ダメなら連絡して下さい．\n",
    "\n",
    "\n"
   ]
  },
  {
   "cell_type": "markdown",
   "metadata": {},
   "source": [
    "# Gitのコマンド\n",
    "githubによる情報共有の基本構造です．リモートリポジトリがGithubに相当します．padawanはそれぞれ自分のaccountにforkします．作業の記録はそこへpushし，それをupstreamであるTeamNishitaniへpull requestをかけます．これを道士がmergeします．padawanは作業を始める前にupstreamから最新版masterをpullします．"
   ]
  },
  {
   "cell_type": "markdown",
   "metadata": {},
   "source": [
    "![Github_origin_upstream](figs/README.002.jpeg)"
   ]
  },
  {
   "cell_type": "markdown",
   "metadata": {},
   "source": [
    "## 一番最初"
   ]
  },
  {
   "cell_type": "markdown",
   "metadata": {},
   "source": [
    "1. Fork from https://github.com/TeamNishitani/grad_research_2017.git\n",
    "1. git clone git@github.com:TeamNishitani/grad_research_2017.git\n",
    "1. 編集して\n",
    "1. git add -A\n",
    "1. git commit -m 'first commit'\n",
    "1. git push origin master"
   ]
  },
  {
   "cell_type": "markdown",
   "metadata": {},
   "source": [
    "## 日常業務\n",
    "1. git pull upstream master\n",
    "1. 編集\n",
    "1. git add -A\n",
    "1. git commit -m 'after revising ...'\n",
    "1. git push origin master"
   ]
  },
  {
   "cell_type": "markdown",
   "metadata": {},
   "source": [
    "## pull request\n",
    "\n",
    "よく間違うんですが，pull requestは自分のforkしたsiteからかけてください．"
   ]
  },
  {
   "cell_type": "markdown",
   "metadata": {},
   "source": [
    "## upstream, originの調整\n",
    "\n",
    "1. git remote -v\n",
    "1. git remote add origin git@github.com:...\n",
    "1. git remote detele origin\n",
    "1. originの代わりに，upstream, downstreamなどを使用"
   ]
  },
  {
   "cell_type": "markdown",
   "metadata": {},
   "source": [
    "# fishへの移行\n"
   ]
  },
  {
   "cell_type": "markdown",
   "metadata": {},
   "source": [
    "余裕ができた人は，tcshより格段に優秀なfishへ移行してください．\n",
    "\n",
    "```\n",
    "$ brew install fish\n",
    "$ sudo emacs /etc/shells   #  末尾に /usr/local/bin/fish を追加\n",
    "$ chsh -s /usr/local/bin/fish  # デフォルトシェルを fish に変更\n",
    "$ curl -Lo ~/.config/fish/functions/fisher.fish --create-dirs git.io/fisher\n",
    "$ fisher -v\n",
    "$ fisher install omf/theme-bobthefish\n",
    "$ git clone git@github.com:powerline/fonts.git  # フォントをinstall\n",
    "$ cd fonts\n",
    "$ ./install.sh\n",
    "```"
   ]
  },
  {
   "cell_type": "markdown",
   "metadata": {},
   "source": [
    "## 環境設定"
   ]
  },
  {
   "cell_type": "markdown",
   "metadata": {},
   "source": [
    "[config.fish](conf_files/config.fish)に例がある．\n",
    "\n",
    "`cp conf_files/config.fish ~/.config/fish/config.fish`\n",
    "\n",
    "した後にnew windowを開けば設定が生きる．tidyのfish流の書き方がわからないので，`~/bin/tidy`に[tidy](conf_files/tidy)を置いている．"
   ]
  },
  {
   "cell_type": "markdown",
   "metadata": {},
   "source": [
    "## terminalの英語の起動\n",
    "prompotに日本語でdateが入るのを阻止するために,　terminalを英語で起動．\n",
    "> defaults write -app Terminal AppleLanguages \"(en, ja)\"\n",
    "\n",
    "元に戻すときは\n",
    "> defaults delete -app アプリケーション名 AppleLanguages"
   ]
  }
 ],
 "metadata": {
  "kernelspec": {
   "display_name": "Ruby 2.2.2",
   "language": "ruby",
   "name": "ruby"
  },
  "language_info": {
   "file_extension": ".rb",
   "mimetype": "application/x-ruby",
   "name": "ruby",
   "version": "2.2.2"
  },
  "latex_envs": {
   "LaTeX_envs_menu_present": true,
   "autocomplete": true,
   "bibliofile": "biblio.bib",
   "cite_by": "apalike",
   "current_citInitial": 1,
   "eqLabelWithNumbers": true,
   "eqNumInitial": 1,
   "hotkeys": {
    "equation": "Ctrl-E",
    "itemize": "Ctrl-I"
   },
   "labels_anchors": false,
   "latex_user_defs": false,
   "report_style_numbering": false,
   "user_envs_cfg": false
  },
  "toc": {
   "colors": {
    "hover_highlight": "#DAA520",
    "navigate_num": "#000000",
    "navigate_text": "#333333",
    "running_highlight": "#FF0000",
    "selected_highlight": "#FFD700",
    "sidebar_border": "#EEEEEE",
    "wrapper_background": "#FFFFFF"
   },
   "moveMenuLeft": true,
   "nav_menu": {
    "height": "174px",
    "width": "252px"
   },
   "navigate_menu": true,
   "number_sections": true,
   "sideBar": true,
   "skip_h1_title": false,
   "threshold": 4,
   "toc_cell": false,
   "toc_section_display": "block",
   "toc_window_display": true,
   "widenNotebook": false
  }
 },
 "nbformat": 4,
 "nbformat_minor": 2
}
