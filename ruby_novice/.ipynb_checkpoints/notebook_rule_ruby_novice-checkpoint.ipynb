{
 "cells": [
  {
   "cell_type": "markdown",
   "metadata": {
    "toc": "true"
   },
   "source": [
    "# Table of Contents\n",
    " <p><div class=\"lev1 toc-item\"><a href=\"#README\" data-toc-modified-id=\"README-1\"><span class=\"toc-item-num\">1&nbsp;&nbsp;</span>README</a></div><div class=\"lev2 toc-item\"><a href=\"#教え方の段取り\" data-toc-modified-id=\"教え方の段取り-11\"><span class=\"toc-item-num\">1.1&nbsp;&nbsp;</span>教え方の段取り</a></div><div class=\"lev2 toc-item\"><a href=\"#基本構造の重要性，雛形考察\" data-toc-modified-id=\"基本構造の重要性，雛形考察-12\"><span class=\"toc-item-num\">1.2&nbsp;&nbsp;</span>基本構造の重要性，雛形考察</a></div><div class=\"lev2 toc-item\"><a href=\"#replの限界\" data-toc-modified-id=\"replの限界-13\"><span class=\"toc-item-num\">1.3&nbsp;&nbsp;</span>replの限界</a></div><div class=\"lev1 toc-item\"><a href=\"#2017授業計画のメモ\" data-toc-modified-id=\"2017授業計画のメモ-2\"><span class=\"toc-item-num\">2&nbsp;&nbsp;</span>2017授業計画のメモ</a></div><div class=\"lev2 toc-item\"><a href=\"#大学院の授業設計．\" data-toc-modified-id=\"大学院の授業設計．-21\"><span class=\"toc-item-num\">2.1&nbsp;&nbsp;</span>大学院の授業設計．</a></div><div class=\"lev2 toc-item\"><a href=\"#領域\" data-toc-modified-id=\"領域-22\"><span class=\"toc-item-num\">2.2&nbsp;&nbsp;</span>領域</a></div><div class=\"lev2 toc-item\"><a href=\"#maple-to-python\" data-toc-modified-id=\"maple-to-python-23\"><span class=\"toc-item-num\">2.3&nbsp;&nbsp;</span>maple to python</a></div><div class=\"lev2 toc-item\"><a href=\"#卒論のネタ\" data-toc-modified-id=\"卒論のネタ-24\"><span class=\"toc-item-num\">2.4&nbsp;&nbsp;</span>卒論のネタ</a></div><div class=\"lev1 toc-item\"><a href=\"#jupyterとrubyの教えの違い\" data-toc-modified-id=\"jupyterとrubyの教えの違い-3\"><span class=\"toc-item-num\">3&nbsp;&nbsp;</span>jupyterとrubyの教えの違い</a></div><div class=\"lev2 toc-item\"><a href=\"#追記(17/9/28)\" data-toc-modified-id=\"追記(17/9/28)-31\"><span class=\"toc-item-num\">3.1&nbsp;&nbsp;</span>追記(17/9/28)</a></div><div class=\"lev1 toc-item\"><a href=\"#文書に関する考察(2017/09/18-by-bob)\" data-toc-modified-id=\"文書に関する考察(2017/09/18-by-bob)-4\"><span class=\"toc-item-num\">4&nbsp;&nbsp;</span>文書に関する考察(2017/09/18 by bob)</a></div><div class=\"lev2 toc-item\"><a href=\"#my_help-code-management\" data-toc-modified-id=\"my_help-code-management-41\"><span class=\"toc-item-num\">4.1&nbsp;&nbsp;</span>my_help code management</a></div><div class=\"lev2 toc-item\"><a href=\"#READMEをタグにしてTOCとindexを作る\" data-toc-modified-id=\"READMEをタグにしてTOCとindexを作る-42\"><span class=\"toc-item-num\">4.2&nbsp;&nbsp;</span>READMEをタグにしてTOCとindexを作る</a></div><div class=\"lev2 toc-item\"><a href=\"#READMEに関する考察\" data-toc-modified-id=\"READMEに関する考察-43\"><span class=\"toc-item-num\">4.3&nbsp;&nbsp;</span>READMEに関する考察</a></div><div class=\"lev2 toc-item\"><a href=\"#文書の作成に関する考察\" data-toc-modified-id=\"文書の作成に関する考察-44\"><span class=\"toc-item-num\">4.4&nbsp;&nbsp;</span>文書の作成に関する考察</a></div><div class=\"lev2 toc-item\"><a href=\"#テキスト試行錯誤のメモ\" data-toc-modified-id=\"テキスト試行錯誤のメモ-45\"><span class=\"toc-item-num\">4.5&nbsp;&nbsp;</span>テキスト試行錯誤のメモ</a></div><div class=\"lev3 toc-item\"><a href=\"#pandocを用いたmdからlatexへの変換の試み\" data-toc-modified-id=\"pandocを用いたmdからlatexへの変換の試み-451\"><span class=\"toc-item-num\">4.5.1&nbsp;&nbsp;</span>pandocを用いたmdからlatexへの変換の試み</a></div><div class=\"lev3 toc-item\"><a href=\"#pandocでmarkdownを中心に組み立てる．\" data-toc-modified-id=\"pandocでmarkdownを中心に組み立てる．-452\"><span class=\"toc-item-num\">4.5.2&nbsp;&nbsp;</span>pandocでmarkdownを中心に組み立てる．</a></div>"
   ]
  },
  {
   "cell_type": "markdown",
   "metadata": {},
   "source": [
    "<br />\n",
    "\n",
    "<div style=\"text-align: center;\">\n",
    "<font size=\"7\">notebookを使うコンセプト</font>\n",
    "</div>\n",
    "<br />\n",
    "<div style=\"text-align: right;\">\n",
    "<font size=\"4\">file:/Users/bob/notebooks/notebook_rule.ipynb</font>\n",
    "<br />\n",
    "<font size=\"4\">html:</font>\n",
    "<br />\n",
    "<font size=\"4\">cc 2017 by Shigeto R. Nishitani</font>\n",
    "</div>\n",
    "\n"
   ]
  },
  {
   "cell_type": "markdown",
   "metadata": {},
   "source": [
    "# README\n",
    "\n",
    "notebook作成の手順や掟に関する著述をここへまとめる．\n",
    "\n",
    "卒業論文での資料を全て，jupyter notebookで作成し，githubへ保存することとします．\n",
    "\n",
    "理由は以下のとおりです．\n",
    "\n",
    "* 文書の体裁が綺麗．\n",
    "* 数式が書ける．\n",
    "* codeが書ける．\n",
    "* latexへ変換できる．\n",
    "* Githubでそのままwebとして表示できる．\n",
    "\n",
    "からです．つまり，科学文書の作成，共有を強制してくれるシステムだからです．\n",
    "\n"
   ]
  },
  {
   "cell_type": "markdown",
   "metadata": {
    "collapsed": true
   },
   "source": [
    "あんまり構造が良くなさそう．これは，Pythonの性格からきているのか．．．\n",
    "言語が思考を縛るというのは良くある話で．バベル87やったっけ？\n",
    "\n",
    "ちごうた．\n",
    "バベル17 (ハヤカワ文庫 SF 248) 文庫 – 2008/7/15\n",
    "サミュエル R.ディレイニー (著), 岡部 宏之 (翻訳)\n",
    "こんなに新しないで．\n",
    "\n",
    "\n",
    "\n"
   ]
  },
  {
   "cell_type": "markdown",
   "metadata": {},
   "source": [
    "## 教え方の段取り\n",
    "\n",
    "1. 文書作成よりも保存構成が大事\n",
    "  1. でも，それを最初から言っても無理．\n",
    "1. jupyter notebookでしばらくmemoを作らせる\n",
    "  1. たぶん，rubyとかpythonの基礎，githubの使い方\n",
    "1. tight binding\n",
    "1. bundler\n",
    "1. notebook_linker\n",
    "\n",
    "という手順かな．．．"
   ]
  },
  {
   "cell_type": "markdown",
   "metadata": {},
   "source": [
    "## 基本構造の重要性，雛形考察\n",
    "\n",
    "* おおきな構造になっても，基本構造を守る．\n",
    "* 個別ユニットが成長していくような構造がいい．\n",
    "* 基本構造の入れ子．\n",
    "\n",
    "例えば，READMEはいいプラクティス．その他は？？？\n",
    "\n"
   ]
  },
  {
   "cell_type": "markdown",
   "metadata": {},
   "source": [
    "## replの限界\n",
    "ううーーーーん．やっぱり，replの限界やな．\n",
    "\n",
    "完成版は，/Users/bob/notebook_root/ipynb_utils\n",
    "にある．でも，terminalに移ったら，1時間悩んでたんが，10分で\n",
    "できて，さらにすっとその先まで行けた．\n",
    "\n",
    "ちょっとややこしいcodeを書こうとしたら無理やった．\n",
    "ここらでつまずくから，terminalにしなあかんにゃな．\n",
    "でも，replで最後までやっている人はどうしてんにゃろ．\n",
    "\n",
    "Mapleも限界を感じるたのは，ここら変だな．\n",
    "* keybindで編集したい\n",
    "* markdownで書きたい\n",
    "* latex記法も使いたい\n",
    "* fileの入出力とかの手間\n",
    "* 他のcodeとの連携\n",
    "\n",
    "\n",
    "irbも同じ悩みがあるよね．\n",
    "この先は，class, libへとでも言って次へやんにゃろか．\n",
    "もう一つ，blockの積み重ねに対する反論をどうするか．．．\n",
    "* codeで書くのもblockやん\n",
    "* blockのなにがわるい\n",
    "* character, picture, robot...\n",
    "\n",
    "例えば，guiのcode開発環境で，\n",
    "> block線図 -> code-block組み合わせ -> parameters調整\n",
    "\n",
    "と進んでいくんですが，それのどこが悪いのだろう．\n",
    "\n",
    "例えば，本当にしたいことがあって，それをさせるには，結局\n",
    "characterで組むしかないから．．．\n",
    "\n",
    "じゃぁ，これでどうや．\n",
    "```\n",
    "wordとかをいじっていて，copy & pasteだけではなくて，\n",
    "なにかたくさんの同じような修正をしたくなるときない？\n",
    "\n",
    "applicationというほどではないけれど，\n",
    "そんなのをcommand一発で修正できると便利だよね．\n",
    "\n",
    "そういうのを道具というのだけれど，\n",
    "そういう道具をさくっと作って\n",
    "同じ繰り返し作業を省こうというのが，programmerのさが\n",
    "\n",
    "それをやってくれるのが，command user interface\n",
    "\n",
    "そしてその先におおきなapplicationを作るというのもある．\n",
    "robotを動かすのも同じ．\n",
    "\n",
    "でも，\n",
    "  blockからcodingを始めると，\n",
    "これは\n",
    "  graphical user interfaceで用意されている環境\n",
    "という意図だけど，思考が制限されちゃうんや．\n",
    "\n",
    "たとえば，いい職人さんはあたらしい道具が出ても\n",
    "それをすぐには使わないよね．NC旋盤とかはべつやけど．\n",
    "んん．やっぱりblockへ戻るな．．．\n",
    "\n",
    "だから，programmerはcuiで始めると言いたいけど．．．\n",
    "blockを使いこなすべきなんやろか．．．\n",
    "\n",
    "pythonの思想かも．．．\n",
    "```\n",
    "\n",
    "\n"
   ]
  },
  {
   "cell_type": "markdown",
   "metadata": {},
   "source": [
    "# 2017授業計画のメモ\n",
    "\n",
    "* jupyter notebook\n",
    "* ruby,python\n",
    "* refactoring,code-test,sympy\n",
    "* deep_learning\n",
    "\n",
    "## 大学院の授業設計．\n",
    "1. jupyter notebook\n",
    "1. github\n",
    "1. たのしいruby\n",
    "1. bundle\n",
    "1. test\n",
    "   1. これはどこでピンときたんだっけ？\n",
    "   1. オブジェクト指向設計実践ガイドか．．．mockだっけか．．．\n",
    "1. refactoring\n",
    "\n",
    "## 領域\n",
    "* jupyterを使って，論文を仕上げていく作業．\n",
    "* github\n",
    "* oss gate\n",
    "\n",
    "## maple to python\n",
    "テキストのpython版を仕上げる．物理学会の最中にほぼ終了\n",
    "\n",
    "次は，数式処理のpython化．\n",
    "\n",
    "## 卒論のネタ\n",
    "* jupyterをkowakiに\n",
    "* maplerubyはmaplejupyterに\n",
    "* my_helpは？？　python化もありかも．\n",
    "* shunkuntypeはruby-noviceと合体して，railsで提供\n",
    "\n"
   ]
  },
  {
   "cell_type": "markdown",
   "metadata": {},
   "source": [
    "# jupyterとrubyの教えの違い\n",
    "\n",
    "大学院講義のネタ\n",
    "\n",
    "* jupyter notebook\n",
    "* ruby\n",
    "* python\n",
    "* ruby_novice\n",
    "* refactoring\n",
    "* code-test\n",
    "\n",
    "ここまで考えて，jupyterの環境とrubyの環境の違いがわかってきた．\n",
    "\n",
    "jupyterは短いコードとか，知識，グラフをレポートとしてまとめるのに向いているんや．\n",
    "\n",
    "\n",
    "だから，testとかclassとかになると難しくなる．\n",
    "\n",
    "だって，pythonのclassって，単に名前空間とかのためだけにある感じだし．\n",
    "rubyのように決まったdirectory構造を指定しないし，\n",
    "testとかが強調されることもない．\n",
    "\n",
    "つまり，\n",
    "* python -> 科学者，学生，レポート作成\n",
    "* ruby -> システム開発，cui, code document作成\n",
    "\n",
    "ということか．でも，cathedral and bazaarでいくと\n",
    "* python = bazaar\n",
    "* ruby = cathedral\n",
    "\n",
    "的ではないか．．．\n",
    "\n"
   ]
  },
  {
   "cell_type": "markdown",
   "metadata": {},
   "source": [
    "## 追記(17/9/28)\n",
    "この洞察は一月後でも変わってない．cliとかclassではなくて，code, moduleというのが単位．したがってobject志向ではないな．大人数での開発になると，隠蔽とか継承とかがちゃんとしているrubyのほうが整合性が保たれてくる．つまり，掟の縛りがrubyのほうがきついということか．たしかにpythonのmodules間にはあまり統一性がなくて，どこに書かれたコードか調べる気がしない．でも，rubyだと切り分けができていて，しかも，code directoryの想像がつくので，そこをpin pointで見ることができて，さらに書かれていることが理解できる．ううううん．まだpythonに馴染んでないせいかも．もうすこし継続しよう．\n",
    "\n",
    "あ，それとpythonからとったのではなくて，jsのDSLみたいなのがrubyにたくさんあることに気がついた．特に，GUI関連はjsと直接繋いだほうがいいみたい．"
   ]
  },
  {
   "cell_type": "markdown",
   "metadata": {
    "heading_collapsed": true
   },
   "source": [
    "# 文書に関する考察(2017/09/18 by bob)\n",
    "\n",
    "これは2016年度で，hikiutils, my_helpなどを開発した段階での考察．jupyter notebookには出会う直前で，面白い考察をしている．"
   ]
  },
  {
   "cell_type": "markdown",
   "metadata": {
    "hidden": true
   },
   "source": [
    "## my_help code management\n",
    "\n",
    "* 2015年はじめ頃のメモで文書管理を考えてた，今ほぼ達成\n",
    "* ベストプラクティス(正しい段取り)を探していて，\n",
    "  * 答えを見つけてみると\n",
    "  * 初めからそこにいたように振舞いやる\n",
    "* 道具= ツール，ライブラリ，汎用\n",
    "* やり方=個別対応，ベストプラクティス...\n",
    "* hikiutilsを使うように教えるのではなく，使うシステムを教えている．．．今は．ええこっちゃ\n",
    "* 汎用ライブラリ，個別Rafefileどちらに実装するかの判断基準の明確化\n",
    "* Conventions Over Configurations, きっちり整頓，片付けの問題\n",
    "* 文書が増えて時間が経つと，．．．いやになんな．もっと綺麗な置きかたないんかいな．．．\n"
   ]
  },
  {
   "cell_type": "markdown",
   "metadata": {
    "hidden": true
   },
   "source": [
    "## READMEをタグにしてTOCとindexを作る"
   ]
  },
  {
   "cell_type": "markdown",
   "metadata": {
    "hidden": true
   },
   "source": [
    "3層ぐらい進んだところで，もうすでに破綻．\n",
    "- うまいrake commandを作れない．\n",
    "- どうまとめていいかわからない．\n",
    "- hikiのリンクにしたほうがいいのか．．．\n",
    "- Githubでフォルダーを手繰ったほうがいいのか．．．\n",
    "- tree -P 'README.md' bob\n",
    "```\n",
    "bob\n",
    "├── README.md\n",
    "├── midterm_presentation\n",
    "└── ruby_seminar17_test_rspec\n",
    "    ├── MartinFowler\n",
    "    ├── README.md\n",
    "    ├── RussOlsen_Eloquent\n",
    "    │   └── README.md\n",
    "    └── SandiMetz\n",
    "        └── README.md\n",
    "```"
   ]
  },
  {
   "cell_type": "markdown",
   "metadata": {
    "hidden": true
   },
   "source": [
    "## READMEに関する考察"
   ]
  },
  {
   "cell_type": "markdown",
   "metadata": {
    "hidden": true
   },
   "source": [
    "メモをREADMEとして残すのは，いいpractice.  もう少し発展させられへん？\n",
    "- ここに置かれているファイル．．．意味．．．を記述するだけ．．．\n",
    "- commandとメモの関係．\n",
    "- Rakefileでそのdirectory独自の作業を登録していく．\n",
    "- bin, my_helpに複数directoryでの作業を残していく．\n",
    "- どこにmemoやcommandを置いたかを忘れる．\n",
    "  - directoryを漁って，自動的にindexやcontentsを作ってくれたら．．．\n",
    "  - 自分の知識を全部まとめた本が出来上がる．\n",
    "\n",
    ">例えばrubocopの作業をSandiMetzのtest_dirから始めたが，そのうちにrubocopは独立した知識となる．その時にどうやって参照と整理を行うか．それらが自動でできたら良いよな．．．hikiがそういうのを提供してくれると思っていたが，少し難しいかも．しかし，directory構造とhiki構造とをつなぐのはいいアイデアやと思うんやが．．．\n",
    "\n",
    "- githubにするんやったら，markdownでいいか．．．\n",
    "- 長い文章になった時に破綻が起こる．\n",
    "- ある程度の短い文章では，問題なく通るが，それが長くなるとだめ．．．\n",
    "- 汎用と個別．．．"
   ]
  },
  {
   "cell_type": "markdown",
   "metadata": {
    "heading_collapsed": true,
    "hidden": true
   },
   "source": [
    "## 文書の作成に関する考察"
   ]
  },
  {
   "cell_type": "markdown",
   "metadata": {
    "hidden": true
   },
   "source": [
    "結局，一年経ったら独自仕様の文書構成システムを使い続けるのは，無理だよね．\n",
    "だから，既存のシステムにすり合わせるべき．\n",
    "\n",
    "hikiがきついんやな．markdownにしよう．\n",
    "\n",
    "markdown <-> latex\n",
    "は可能なんで，あとは，markdownをどこで表示させるか．\n",
    "これは，QiitaとかGithubにすればいいか．．．\n",
    "\n",
    "under the tableでhikiにさくっと変換できればいい．\n",
    "たぶん学生さんの学習負担は，hikiでもmark downでもおなじか．．．\n",
    "\n",
    "はじめからlatexという手もある．"
   ]
  },
  {
   "cell_type": "markdown",
   "metadata": {
    "heading_collapsed": true,
    "hidden": true
   },
   "source": [
    "## テキスト試行錯誤のメモ"
   ]
  },
  {
   "cell_type": "markdown",
   "metadata": {
    "heading_collapsed": true,
    "hidden": true
   },
   "source": [
    "### pandocを用いたmdからlatexへの変換の試み"
   ]
  },
  {
   "cell_type": "markdown",
   "metadata": {
    "hidden": true
   },
   "source": [
    "```bash\n",
    "bob% pandoc -f markdown -t latex --standalone README.md > readme.tex\n",
    "bob% open readme.tex \n",
    "```\n",
    "Xelatexやとそのまま通るけど，日本語が消える．\n",
    "IFFileExistsの構文が通らないので，そこを消す．他にも色々optionsによる制御ができそうだが，ややこしそう．\n",
    "\n",
    "```\n",
    "pandoc README.md -o report.pdf -V documentclass=ltjsarticle --latex-engine=lualatex\n",
    "pandoc README.markdown -o README.pdf --latex-engine=xelatex -V mainfont=Hiragino\\ Kaku\\ Gothic\\ Pro\n",
    "```\n",
    "xelatexはフォントの問題みたい．"
   ]
  },
  {
   "cell_type": "markdown",
   "metadata": {
    "heading_collapsed": true,
    "hidden": true
   },
   "source": [
    "### pandocでmarkdownを中心に組み立てる．"
   ]
  },
  {
   "cell_type": "markdown",
   "metadata": {
    "hidden": true
   },
   "source": [
    "[pandocで行こう](http://teraogk.hatenablog.com/entry/2016/09/29/170028)にある通り，\n",
    ">タイトルと要旨にはそれぞれ、末尾に{#title .title}, {#abstract .abstract}をつけておく。すると、その他のsection見出しと異なる class (title, abstract) をつけることができるので、今後の自動化の手掛かりとなるだろう。\n",
    ">pandoc-crossrefを用いて図表および節番号の相互参照を実現するようにする。節番号で一応のテスト運用をしてみたが、うまく機能しているようだ。\n",
    ">pandoc-citeprocを用いて文献参照の機能を実現する。bibliographyファイルに、bibtexの .bib ファイルを利用することにする。作り方は latex のものと同じ。 元のファイルは main.md として以下のようにコンパイル。\n",
    "\n",
    "とするとうまくいくみたい．"
   ]
  },
  {
   "cell_type": "code",
   "execution_count": null,
   "metadata": {
    "collapsed": true,
    "hidden": true
   },
   "outputs": [],
   "source": []
  }
 ],
 "metadata": {
  "kernelspec": {
   "display_name": "Bash",
   "language": "bash",
   "name": "bash"
  },
  "language_info": {
   "codemirror_mode": "shell",
   "file_extension": ".sh",
   "mimetype": "text/x-sh",
   "name": "bash"
  },
  "latex_envs": {
   "LaTeX_envs_menu_present": true,
   "autocomplete": true,
   "bibliofile": "biblio.bib",
   "cite_by": "apalike",
   "current_citInitial": 1,
   "eqLabelWithNumbers": true,
   "eqNumInitial": 1,
   "hotkeys": {
    "equation": "Ctrl-E",
    "itemize": "Ctrl-I"
   },
   "labels_anchors": false,
   "latex_user_defs": false,
   "report_style_numbering": false,
   "user_envs_cfg": false
  },
  "toc": {
   "colors": {
    "hover_highlight": "#DAA520",
    "navigate_num": "#000000",
    "navigate_text": "#333333",
    "running_highlight": "#FF0000",
    "selected_highlight": "#FFD700",
    "sidebar_border": "#EEEEEE",
    "wrapper_background": "#FFFFFF"
   },
   "moveMenuLeft": true,
   "nav_menu": {
    "height": "85px",
    "width": "252px"
   },
   "navigate_menu": true,
   "number_sections": true,
   "sideBar": true,
   "threshold": 4,
   "toc_cell": true,
   "toc_section_display": "block",
   "toc_window_display": true,
   "widenNotebook": false
  }
 },
 "nbformat": 4,
 "nbformat_minor": 2
}
