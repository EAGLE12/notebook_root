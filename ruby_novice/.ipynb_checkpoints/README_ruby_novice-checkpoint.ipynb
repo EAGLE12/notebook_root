{
 "cells": [
  {
   "cell_type": "markdown",
   "metadata": {
    "slideshow": {
     "slide_type": "slide"
    }
   },
   "source": [
    "# README\n",
    "\n",
    "* /Users/bob/Github/ruby_novice\n",
    "* origin\tgit@github.com:TeamNishitani/ruby_novice.git (fetch)\n",
    "* 2017-08-24 14:28:01 by bob"
   ]
  },
  {
   "cell_type": "markdown",
   "metadata": {
    "slideshow": {
     "slide_type": "slide"
    }
   },
   "source": [
    "# ruby_novice\n",
    "\n",
    "大学院のmultiscale simulations用のsite.\n",
    "\n",
    "1. [jupyter notebookのinstall](install_notebook.ipynb)\n",
    "  * MacBookPro\n",
    "1. [Github](README_grad_research_2017.ipynb)\n",
    "1. 楽しいRuby[i]\n",
    "1. 楽しいRuby[ii] class\n",
    "1. CLI optparse\n",
    "1. Ruby Russ Olsen DSL\n",
    "1. Russ Olsenテストではなくて文書のつもりで．．．\n",
    "1. Refactoring..."
   ]
  },
  {
   "cell_type": "markdown",
   "metadata": {
    "collapsed": true,
    "slideshow": {
     "slide_type": "slide"
    }
   },
   "source": [
    "# reportに必要な機能\n",
    "\n",
    "* 迅速なediting\n",
    "* formatting\n",
    "  * 数式\n",
    "  * グラフ\n",
    "  * 参照\n",
    "* 変換\n",
    "  * latex\n",
    "  * power point\n",
    "  * web"
   ]
  },
  {
   "cell_type": "markdown",
   "metadata": {
    "collapsed": true
   },
   "source": [
    "# notebook使い方\n",
    "\n",
    "* 設定\n",
    "* markdown記法\n",
    "* [linkとかreferenceとか，presentationとか](https://jupyter.brynmawr.edu/services/public/dblank/Jupyter%20Notebook%20Users%20Manual.ipynb#5.2-Cite-Commands-and-Citation-IDs)\n",
    "*"
   ]
  },
  {
   "cell_type": "code",
   "execution_count": null,
   "metadata": {
    "collapsed": true
   },
   "outputs": [],
   "source": []
  }
 ],
 "metadata": {
  "celltoolbar": "Slideshow",
  "kernelspec": {
   "display_name": "Ruby 2.2.2",
   "language": "ruby",
   "name": "ruby"
  },
  "language_info": {
   "file_extension": ".rb",
   "mimetype": "application/x-ruby",
   "name": "ruby",
   "version": "2.2.2"
  },
  "latex_envs": {
   "LaTeX_envs_menu_present": true,
   "autocomplete": true,
   "bibliofile": "biblio.bib",
   "cite_by": "apalike",
   "current_citInitial": 1,
   "eqLabelWithNumbers": true,
   "eqNumInitial": 1,
   "hotkeys": {
    "equation": "Ctrl-E",
    "itemize": "Ctrl-I"
   },
   "labels_anchors": false,
   "latex_user_defs": false,
   "report_style_numbering": false,
   "user_envs_cfg": false
  },
  "toc": {
   "colors": {
    "hover_highlight": "#DAA520",
    "navigate_num": "#000000",
    "navigate_text": "#333333",
    "running_highlight": "#FF0000",
    "selected_highlight": "#FFD700",
    "sidebar_border": "#EEEEEE",
    "wrapper_background": "#FFFFFF"
   },
   "moveMenuLeft": true,
   "nav_menu": {
    "height": "174px",
    "width": "252px"
   },
   "navigate_menu": true,
   "number_sections": true,
   "sideBar": true,
   "skip_h1_title": false,
   "threshold": 4,
   "toc_cell": false,
   "toc_section_display": "block",
   "toc_window_display": false,
   "widenNotebook": false
  }
 },
 "nbformat": 4,
 "nbformat_minor": 2
}
