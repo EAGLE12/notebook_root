{
 "cells": [
  {
   "cell_type": "markdown",
   "metadata": {
    "toc": "true"
   },
   "source": [
    "# Table of Contents\n",
    " <p><div class=\"lev1 toc-item\"><a href=\"#test\" data-toc-modified-id=\"test-1\"><span class=\"toc-item-num\">1&nbsp;&nbsp;</span>test</a></div><div class=\"lev1 toc-item\"><a href=\"#minitest\" data-toc-modified-id=\"minitest-2\"><span class=\"toc-item-num\">2&nbsp;&nbsp;</span>minitest</a></div>"
   ]
  },
  {
   "cell_type": "markdown",
   "metadata": {},
   "source": [
    "# test\n",
    "testの書き方を習得しようとして以下のテキストを比較．\n",
    "<dl>\n",
    "<dt><a href=\"./SandiMetz/README.md\">SandiMetz</a></dt><dd>stub, mockなどの簡単な紹介はあるが．．．具体例より，testの細かい動作のコンセプトが詳述されている．</dd>\n",
    "<dt><a href=\"./MartinFolwer\">MartinFowler</a></dt><dd>このtestに関する記述はとても一般的．Tsutayaをやる時にじっくり考えよう．</dd>\n",
    "<dt><a href=\"./RussOlsen_Eloquent\">RussOlsen_Eloquent</a></dt><dd>「スペックを書く」という表題．学習の意図にあってそう．ワクワク．</dd>\n",
    "<dt>PeterJJones_Effective</dt><dd> stub, mockなどが詳しく紹介されていたが，MiniTestなんで少し古い感じ．</dd>\n",
    "</dl>\n",
    "\n",
    "ということで結局Russ Olsenで終了．どういいかは[RussOlsen_Eloquent](./RussOlsen_Eloquent)を参照．ええで．\n",
    "\n",
    "でもまだBDDまで至っていない．Arubaを訳したほうがいいのかな．．．\n",
    "\n",
    "# minitest\n",
    "SandiMetzで使われているminitestでcolor化するにはreportersがいい！！ \n",
    "```ruby\n",
    "require 'minitest/autorun'\n",
    "require \"minitest/reporters\"\n",
    "Minitest::Reporters.use!\n",
    "\n",
    "class GearTest < MiniTest::Unit::TestCase\n",
    "...\n",
    "```\n",
    "\n",
    "```\n",
    "gem install minitest-reporters\n",
    "```\n",
    "でinstall．"
   ]
  },
  {
   "cell_type": "code",
   "execution_count": null,
   "metadata": {
    "collapsed": true
   },
   "outputs": [],
   "source": []
  }
 ],
 "metadata": {
  "kernelspec": {
   "display_name": "Ruby 2.2.2",
   "language": "ruby",
   "name": "ruby"
  },
  "language_info": {
   "file_extension": ".rb",
   "mimetype": "application/x-ruby",
   "name": "ruby",
   "version": "2.2.2"
  },
  "latex_envs": {
   "LaTeX_envs_menu_present": true,
   "autocomplete": true,
   "bibliofile": "biblio.bib",
   "cite_by": "apalike",
   "current_citInitial": 1,
   "eqLabelWithNumbers": true,
   "eqNumInitial": 1,
   "hotkeys": {
    "equation": "Ctrl-E",
    "itemize": "Ctrl-I"
   },
   "labels_anchors": false,
   "latex_user_defs": false,
   "report_style_numbering": false,
   "user_envs_cfg": false
  },
  "toc": {
   "colors": {
    "hover_highlight": "#DAA520",
    "navigate_num": "#000000",
    "navigate_text": "#333333",
    "running_highlight": "#FF0000",
    "selected_highlight": "#FFD700",
    "sidebar_border": "#EEEEEE",
    "wrapper_background": "#FFFFFF"
   },
   "moveMenuLeft": true,
   "nav_menu": {
    "height": "48px",
    "width": "252px"
   },
   "navigate_menu": true,
   "number_sections": true,
   "sideBar": true,
   "threshold": 4,
   "toc_cell": true,
   "toc_section_display": "block",
   "toc_window_display": true,
   "widenNotebook": false
  }
 },
 "nbformat": 4,
 "nbformat_minor": 2
}
