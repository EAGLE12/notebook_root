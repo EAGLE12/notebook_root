{
 "cells": [
  {
   "cell_type": "markdown",
   "metadata": {
    "toc": "true"
   },
   "source": [
    "# Table of Contents\n",
    " <p><div class=\"lev1 toc-item\"><a href=\"#README\" data-toc-modified-id=\"README-1\"><span class=\"toc-item-num\">1&nbsp;&nbsp;</span>README</a></div><div class=\"lev1 toc-item\"><a href=\"#準備\" data-toc-modified-id=\"準備-2\"><span class=\"toc-item-num\">2&nbsp;&nbsp;</span>準備</a></div><div class=\"lev2 toc-item\"><a href=\"#juypter-notebookのinstall\" data-toc-modified-id=\"juypter-notebookのinstall-21\"><span class=\"toc-item-num\">2.1&nbsp;&nbsp;</span><a href=\"http://qiita.com/sasaki77/items/bfa53828c973ba46e34d\" target=\"_blank\">juypter notebookのinstall</a></a></div><div class=\"lev2 toc-item\"><a href=\"#nbextensionsの導入\" data-toc-modified-id=\"nbextensionsの導入-22\"><span class=\"toc-item-num\">2.2&nbsp;&nbsp;</span><a href=\"http://cartman0.hatenablog.com/entry/2016/03/28/170319\" target=\"_blank\">nbextensionsの導入</a></a></div><div class=\"lev2 toc-item\"><a href=\"#juypter-notebookにRubyの導入\" data-toc-modified-id=\"juypter-notebookにRubyの導入-23\"><span class=\"toc-item-num\">2.3&nbsp;&nbsp;</span><a href=\"http://qiita.com/domitry/items/aa348caf993e876a7be5\" target=\"_blank\">juypter notebookにRubyの導入</a></a></div><div class=\"lev1 toc-item\"><a href=\"#notebook作成上のrule\" data-toc-modified-id=\"notebook作成上のrule-3\"><span class=\"toc-item-num\">3&nbsp;&nbsp;</span>notebook作成上のrule</a></div><div class=\"lev1 toc-item\"><a href=\"#latexへのconvert\" data-toc-modified-id=\"latexへのconvert-4\"><span class=\"toc-item-num\">4&nbsp;&nbsp;</span>latexへのconvert</a></div><div class=\"lev1 toc-item\"><a href=\"#python3の導入による変更\" data-toc-modified-id=\"python3の導入による変更-5\"><span class=\"toc-item-num\">5&nbsp;&nbsp;</span>python3の導入による変更</a></div><div class=\"lev1 toc-item\"><a href=\"#emacs-keybind-for-juypter\" data-toc-modified-id=\"emacs-keybind-for-juypter-6\"><span class=\"toc-item-num\">6&nbsp;&nbsp;</span>emacs-keybind for juypter</a></div><div class=\"lev2 toc-item\"><a href=\"#keybind-on-jupyter\" data-toc-modified-id=\"keybind-on-jupyter-61\"><span class=\"toc-item-num\">6.1&nbsp;&nbsp;</span>keybind on jupyter</a></div><div class=\"lev3 toc-item\"><a href=\"#command-mode\" data-toc-modified-id=\"command-mode-611\"><span class=\"toc-item-num\">6.1.1&nbsp;&nbsp;</span>command mode</a></div><div class=\"lev3 toc-item\"><a href=\"#edit-mode\" data-toc-modified-id=\"edit-mode-612\"><span class=\"toc-item-num\">6.1.2&nbsp;&nbsp;</span>edit mode</a></div>"
   ]
  },
  {
   "cell_type": "markdown",
   "metadata": {},
   "source": [
    "# README \n",
    "卒業論文での資料を全て，jupyter notebookで作成し，githubへ保存することとします．\n",
    "\n",
    "理由は以下のとおりです．\n",
    "\n",
    "* 文書の体裁が綺麗．\n",
    "* 数式が書ける．\n",
    "* codeが書ける．\n",
    "* latexへ変換できる．\n",
    "* Githubでそのままwebとして表示できる．\n",
    "\n",
    "からです．つまり，科学文書の作成，共有を強制してくれるシステムだからです．"
   ]
  },
  {
   "cell_type": "markdown",
   "metadata": {},
   "source": [
    "* /Users/bob/Github/grad_research_2017/bob/notebook/README.ipynb\n",
    "* origin\tgit@github.com:TeamNishitani/grad_research_2017.git (fetch)\n",
    "* 2017-08-22 20:05:44 by bob"
   ]
  },
  {
   "cell_type": "markdown",
   "metadata": {},
   "source": [
    "# 準備"
   ]
  },
  {
   "cell_type": "markdown",
   "metadata": {},
   "source": [
    "## [juypter notebookのinstall](http://qiita.com/sasaki77/items/bfa53828c973ba46e34d)\n",
    "以下のコマンドで動くはず．\n",
    "\n",
    "* `easy_install pip`\n",
    "* `pip install jupyter`\n",
    "* `jupyter notebook`\n",
    "\n",
    "sudoと，あたらしいwindowを立ち上げる必要があるかも．．．"
   ]
  },
  {
   "cell_type": "markdown",
   "metadata": {},
   "source": [
    "## [nbextensionsの導入](http://cartman0.hatenablog.com/entry/2016/03/28/170319)\n",
    "* ` pip install https://github.com/ipython-contrib/IPython-notebook-extensions/archive/master.zip --user`\n",
    "*  http://localhost:8888/nbextensions にアクセス，そこで設定\n",
    "* NbExtensions dashboard tab\n",
    "* NbExtensions menu item\n",
    "* Table of Contents (2)\n",
    "* Collapsible Headings\n",
    "* Codefolding\n",
    "* 以下はdefaultでは使用不可だが，Configurable nbextensions直下のボックスを外すと使える．notebookを壊す危険があるので注意とさ．\n",
    "  * Drag and Drop\n",
    "  * Equation Auto Numbering\n",
    "  * datastamper\n",
    "  "
   ]
  },
  {
   "cell_type": "markdown",
   "metadata": {},
   "source": [
    "## [juypter notebookにRubyの導入](http://qiita.com/domitry/items/aa348caf993e876a7be5)\n",
    "\n",
    "これ小脇の記述？\n",
    "\n",
    "* Macではrbczmqがうまくビルドできないらしいのでffi-rzmqを使う.\n",
    "* gem install ffi-rzmq\n",
    "* gem install iruby\n",
    "* iruby notebook\n",
    "* もし、rbczmqでうまくいった方は教えてください.\n",
    "\n",
    "[RubyistのJupyter入門](http://qiita.com/genya0407/items/b01f101d2f2725f77374)じゃないかな？\n",
    "\n",
    "この辺り壊れてたから．．．\n",
    "\n",
    "それと\n",
    "[jupyter notebook viewer](http://nbviewer.jupyter.org)がゆうてたnotebookの共有．"
   ]
  },
  {
   "cell_type": "markdown",
   "metadata": {},
   "source": [
    "# notebook作成上のrule\n",
    "\n",
    "- jupyter notebookで作る\n",
    "- figsにfiguresを置く\n",
    "- rake convert SIZEでgraphsのサイズを縮小\n",
    "- rake mk_wholeなどで最新データをupdateした図を自動生成\n",
    "- git add, commit, pushでgithubへ登録\n"
   ]
  },
  {
   "cell_type": "markdown",
   "metadata": {},
   "source": [
    "# latexへのconvert\n",
    "``` bash\n",
    "%bob rake\n",
    "rake convert   # convert SIZE, all figs with smaller size\n",
    "rake mk_latex  # mk latex FILE, stored in latex dir\n",
    "```"
   ]
  },
  {
   "cell_type": "code",
   "execution_count": null,
   "metadata": {
    "code_folding": [],
    "collapsed": true
   },
   "outputs": [],
   "source": [
    "task :mk_latex do\n",
    "  p target = ARGV[1]\n",
    "  p tex_src = target.sub('.ipynb', '.tex')\n",
    "  system \"jupyter nbconvert --to latex #{target}\"\n",
    "  lines = File.readlines(tex_src)\n",
    "  lines.each_with_index do |line,i|\n",
    "    line.sub!(\"\\documentclass[11pt]{article}\",\n",
    "              \"\\documentclass[11pt,dvipdfmx]{jsarticle}\")\n",
    "    line.sub!('./figs/', '../figs/')\n",
    "    # change_eq_exp(line)\n",
    "    print line.red if line =~ RE_FIGS_EXT\n",
    "    line.sub!(line, '%' + line) if line.include?('.svg')\n",
    "  end\n",
    "  File.open(tex_src, 'w') { |file| file.print lines.join }\n",
    "  FileUtils.mkdir_p('latex')\n",
    "  FileUtils.mv(tex_src, 'latex')\n",
    "\n",
    "  mk_xbb\n",
    "  exit\n",
    "end"
   ]
  },
  {
   "cell_type": "markdown",
   "metadata": {},
   "source": [
    "# python3の導入による変更"
   ]
  },
  {
   "cell_type": "markdown",
   "metadata": {},
   "source": [
    "anacondaを使って，pyhon3をいれたが，それ以降うまく動かなくなった．\n",
    "keyboard shortcutとか悲惨．なんとかなったみたい．good.\n",
    "よかった．\n",
    "\n",
    "以下のように(逆順だが)して，kernelからの警告はなくなった．\n",
    "\n",
    "```\n",
    "jupyter contrib nbextension install --user\n",
    "sudo chown -R bob /Users/bob/.jupyter/\n",
    "ls -lat /Users/bob/.jupyter/\n",
    "ls -lat /Users/bob/Library/Jupyter/\n",
    "sudo chown -R bob /Users/bob/Library/Jupyter/\n",
    "ls -lat /Users/bob/Library/Jupyter/nbextensions/\n",
    "ls /Users/bob/Library/Jupyter/nbextensions/\n",
    "conda install -c conda-forge jupyter_contrib_nbextensions\n",
    "jupyter notebook\n",
    "sudo jupyter contrib nbextensions uninstall --user\n",
    "date\n",
    "ls -lat /Users/bob/Library/Jupyter/nbextensions/addbefore/\n",
    "jupyter contrib nbextensions uninstall --user\n",
    "jupyter contrib nbextensions uninstall --system\n",
    "jupyter --paths\n",
    "jupyter contrib nbextensions uninstall --sys-prefix\n",
    "```\n",
    "\n",
    "逆順というのがこれからの標準なんだろうな．"
   ]
  },
  {
   "cell_type": "markdown",
   "metadata": {
    "collapsed": true
   },
   "source": [
    "# emacs-keybind for juypter\n",
    "emacs-keybindが中途半で嫌やったんやけど，\n",
    "> pip install jupyter-emacskeys\n",
    " \n",
    "でできるようになった\n",
    "[jupyter-emacskeys](https://github.com/rmcgibbo/jupyter-emacskeys)ようだ．\n",
    "ただ，ctrl-y(ank)でmarkdown -> rubyなんかのtoggleが効いている．\n",
    "これはどこで切るのだろう．\n",
    "\n",
    "あと，上記のpip以外に設定ファイルを書き換えるというのもあるようだ．\n",
    "* [ここ](https://groups.google.com/forum/#!topic/jupyter/5F2gVEyvOVQ)\n",
    "* [そこ](http://qiita.com/kenbeese/items/8f88376ff9b4e3685aec)\n",
    "\n",
    "でデフォルトで埋め込まれたのを生かす手法が紹介されている．でもpipが便利そう．\n",
    "yankも効くし．\n",
    "\n",
    "## keybind on jupyter\n",
    "### command mode\n",
    "* h: help\n",
    "* y: to code\n",
    "* m: to markdown\n",
    "\n",
    "### edit mode\n",
    "emacs-modeでいける"
   ]
  },
  {
   "cell_type": "code",
   "execution_count": null,
   "metadata": {
    "collapsed": true
   },
   "outputs": [],
   "source": []
  }
 ],
 "metadata": {
  "kernelspec": {
   "display_name": "Ruby 2.2.2",
   "language": "ruby",
   "name": "ruby"
  },
  "language_info": {
   "file_extension": ".rb",
   "mimetype": "application/x-ruby",
   "name": "ruby",
   "version": "2.2.2"
  },
  "latex_envs": {
   "LaTeX_envs_menu_present": true,
   "autocomplete": true,
   "bibliofile": "biblio.bib",
   "cite_by": "apalike",
   "current_citInitial": 1,
   "eqLabelWithNumbers": true,
   "eqNumInitial": 1,
   "hotkeys": {
    "equation": "Ctrl-E",
    "itemize": "Ctrl-I"
   },
   "labels_anchors": false,
   "latex_user_defs": false,
   "report_style_numbering": false,
   "user_envs_cfg": false
  },
  "toc": {
   "colors": {
    "hover_highlight": "#DAA520",
    "navigate_num": "#000000",
    "navigate_text": "#333333",
    "running_highlight": "#FF0000",
    "selected_highlight": "#FFD700",
    "sidebar_border": "#EEEEEE",
    "wrapper_background": "#FFFFFF"
   },
   "moveMenuLeft": true,
   "nav_menu": {
    "height": "48px",
    "width": "252px"
   },
   "navigate_menu": true,
   "number_sections": true,
   "sideBar": true,
   "skip_h1_title": false,
   "threshold": 4,
   "toc_cell": true,
   "toc_section_display": "block",
   "toc_window_display": true,
   "widenNotebook": false
  }
 },
 "nbformat": 4,
 "nbformat_minor": 2
}
